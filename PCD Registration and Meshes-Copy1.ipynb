{
 "cells": [
  {
   "cell_type": "code",
   "execution_count": 1,
   "id": "6b647e2f",
   "metadata": {},
   "outputs": [
    {
     "name": "stderr",
     "output_type": "stream",
     "text": [
      "WARNING[XFORMERS]: xFormers can't load C++/CUDA extensions. xFormers was built for:\n",
      "    PyTorch 1.13.1+cu117 with CUDA 1107 (you have 1.12.1+cpu)\n",
      "    Python  3.8.10 (you have 3.8.16)\n",
      "  Please reinstall xformers (see https://github.com/facebookresearch/xformers#installing-xformers)\n",
      "  Memory-efficient attention, SwiGLU, sparse and more won't be available.\n",
      "  Set XFORMERS_MORE_DETAILS=1 for more details\n",
      "C:\\Users\\User\\anaconda3\\envs\\stable_diff\\lib\\site-packages\\torchvision\\io\\image.py:13: UserWarning: Failed to load image Python extension: Could not find module 'C:\\Users\\User\\anaconda3\\envs\\stable_diff\\Lib\\site-packages\\torchvision\\image.pyd' (or one of its dependencies). Try using the full path with constructor syntax.\n",
      "  warn(f\"Failed to load image Python extension: {e}\")\n"
     ]
    }
   ],
   "source": [
    "import os\n",
    "import urllib.request\n",
    "from io import BytesIO\n",
    "import requests\n",
    "import json\n",
    "\n",
    "import torch\n",
    "\n",
    "from PIL import Image\n",
    "import numpy as np\n",
    "import cv2\n",
    "import matplotlib.pyplot as plt\n",
    "import scipy\n",
    "import h5py\n",
    "\n",
    "import open3d as o3d\n",
    "\n",
    "import matplotlib.image as mpimg\n",
    "import re\n",
    "from csv import writer\n",
    "import pymeshlab\n",
    "\n",
    "from utils.preprocessing import *\n",
    "from models.model_data import *\n",
    "from models_3d import point_clouds\n",
    "from models import controlnet_model_wrapper\n",
    "\n"
   ]
  },
  {
   "cell_type": "code",
   "execution_count": 2,
   "id": "3f0b1f41",
   "metadata": {},
   "outputs": [
    {
     "name": "stderr",
     "output_type": "stream",
     "text": [
      "C:\\Users\\User\\AppData\\Local\\Temp\\ipykernel_36860\\393417447.py:12: H5pyDeprecationWarning: The default file mode will change to 'r' (read-only) in h5py 3.0. To suppress this warning, pass the mode you need to h5py.File(), or set the global default h5.get_config().default_file_mode, or set the environment variable H5PY_DEFAULT_READONLY=1. Available modes are: 'r', 'r+', 'w', 'w-'/'x', 'a'. See the docs for details.\n",
      "  f = h5py.File(nyu_path)\n"
     ]
    }
   ],
   "source": [
    "nyu_path = 'C:/Users/User/Documents/Data_Science/ar_stable_diffusion/data/nyu_depth_v2_labeled.mat'\n",
    "nyu_result_root = './results/NYU/'\n",
    "eval_results_path = nyu_result_root + \"eval_logs.csv\"\n",
    "\n",
    "save_folder = nyu_result_root\n",
    "\n",
    "guidance_scale = 7.5\n",
    "strength=0.5\n",
    "num_inference_steps=20\n",
    "\n",
    "# read mat file\n",
    "f = h5py.File(nyu_path)\n",
    "\n",
    "rgb_images = f['images']\n",
    "depth_maps = f['depths']\n",
    "\n",
    "\"\"\"\n",
    "Nx4 matrix of accelerometer values indicated when each frame was taken. \n",
    "The columns contain the roll, yaw, pitch and tilt angle of the device.\n",
    "\"\"\"\n",
    "accel_data = f['accelData']\n",
    "\n",
    "seg_mask = f['labels']\n",
    "\n",
    "\"\"\"Cx1 cell array of the english names of each class.\"\"\"\n",
    "names = f['names']\n",
    "\n",
    "\"\"\" map from english label names to class IDs (with C key-value pairs)\"\"\"\n",
    "namesToIds = f['namesToIds']\n",
    "\n",
    "\"\"\"Nx1 cell array of the name of the scene from which each image was taken.\"\"\"\n",
    "scenes = f['scenes']\n",
    "\n",
    "\n"
   ]
  },
  {
   "cell_type": "code",
   "execution_count": 3,
   "id": "e53b4c69",
   "metadata": {},
   "outputs": [
    {
     "data": {
      "text/plain": [
       "<KeysViewHDF5 ['MATLAB_class', 'MATLAB_int_decode']>"
      ]
     },
     "execution_count": 3,
     "metadata": {},
     "output_type": "execute_result"
    }
   ],
   "source": [
    "f[scenes[0][0]].attrs.keys()"
   ]
  },
  {
   "cell_type": "code",
   "execution_count": 6,
   "id": "36fb4530",
   "metadata": {},
   "outputs": [
    {
     "data": {
      "text/plain": [
       "(PointCloud with 360448 points., PointCloud with 360448 points.)"
      ]
     },
     "execution_count": 6,
     "metadata": {},
     "output_type": "execute_result"
    }
   ],
   "source": [
    "#point_clouds.rebuild_point_clouds(rgb_image=rgb_images[i], depth_map=depth_maps[i],i=i, display=True, condition_type = \"seg\")"
   ]
  },
  {
   "cell_type": "code",
   "execution_count": 8,
   "id": "5bc07873",
   "metadata": {},
   "outputs": [],
   "source": [
    "#pcd = o3d.io.read_point_cloud( nyu_result_root + f\"point_clouds/{i}_ground_pcd_from_seg.pcd\")\n",
    "#o3d.visualization.draw_geometries([pcd])"
   ]
  },
  {
   "cell_type": "code",
   "execution_count": 5,
   "id": "90afe3c3",
   "metadata": {},
   "outputs": [],
   "source": [
    "#pcd = o3d.io.read_point_cloud( nyu_result_root + f\"point_clouds/{i}_gen_pcd_from_seg.pcd\")\n",
    "#o3d.visualization.draw_geometries([pcd])"
   ]
  },
  {
   "cell_type": "code",
   "execution_count": 6,
   "id": "2403700d",
   "metadata": {},
   "outputs": [],
   "source": [
    "i = 0"
   ]
  },
  {
   "cell_type": "code",
   "execution_count": 6,
   "id": "2c13e0f3",
   "metadata": {},
   "outputs": [
    {
     "name": "stdout",
     "output_type": "stream",
     "text": [
      "[Open3D WARNING] GLFW Error: WGL: Failed to make context current: The handle is invalid. \n"
     ]
    }
   ],
   "source": [
    "i = 5\n",
    "original_pcd, generated_pcd = point_clouds.rebuild_point_clouds(rgb_images[i], depth_maps[i], i=i, result_root='./results/NYU/', display=True, condition_type=\"seg\")\n",
    "    "
   ]
  },
  {
   "cell_type": "markdown",
   "id": "9db8fa17",
   "metadata": {},
   "source": [
    "## Using Acceleration Data"
   ]
  },
  {
   "cell_type": "code",
   "execution_count": 8,
   "id": "9cccc38f",
   "metadata": {},
   "outputs": [],
   "source": [
    "roll = accel_data[0]\n",
    "yaw = accel_data[1]\n",
    "pitch = accel_data[2]\n",
    "tilt = accel_data[3]\n"
   ]
  },
  {
   "cell_type": "code",
   "execution_count": 9,
   "id": "85ba78c4",
   "metadata": {},
   "outputs": [
    {
     "data": {
      "text/plain": [
       "<HDF5 dataset \"accelData\": shape (4, 1449), type \"<f4\">"
      ]
     },
     "execution_count": 9,
     "metadata": {},
     "output_type": "execute_result"
    }
   ],
   "source": [
    "accel_data"
   ]
  },
  {
   "cell_type": "code",
   "execution_count": 10,
   "id": "212e7ac3",
   "metadata": {},
   "outputs": [],
   "source": [
    "import math\n",
    "\n",
    "def rotation_matrix(pitch,roll,yaw):\n",
    "    #taken from: https://www.zacobria.com/universal-robots-knowledge-base-tech-support-forum-hints-tips-cb2-cb3/index.php/python-code-example-of-converting-rpyeuler-angles-to-rotation-vectorangle-axis-for-universal-robots/\n",
    "   \n",
    "    yawMatrix = np.matrix([\n",
    "    [math.cos(yaw), -math.sin(yaw), 0],\n",
    "    [math.sin(yaw), math.cos(yaw), 0],\n",
    "    [0, 0, 1]\n",
    "    ])\n",
    "\n",
    "    pitchMatrix = np.matrix([\n",
    "    [math.cos(pitch), 0, math.sin(pitch)],\n",
    "    [0, 1, 0],\n",
    "    [-math.sin(pitch), 0, math.cos(pitch)]\n",
    "    ])\n",
    "\n",
    "    rollMatrix = np.matrix([\n",
    "    [1, 0, 0],\n",
    "    [0, math.cos(roll), -math.sin(roll)],\n",
    "    [0, math.sin(roll), math.cos(roll)]\n",
    "    ])\n",
    "\n",
    "    R = yawMatrix * pitchMatrix * rollMatrix\n",
    "    \n",
    "    return R"
   ]
  },
  {
   "cell_type": "code",
   "execution_count": 47,
   "id": "c5f1745a",
   "metadata": {},
   "outputs": [],
   "source": [
    "R0 = rotation_matrix(pitch[0],roll[0],yaw[0])\n",
    "R1 = rotation_matrix(pitch[1],roll[1],yaw[1])\n",
    "R2 = rotation_matrix(pitch[2],roll[2],yaw[2])\n",
    "\n",
    "\n",
    "\n",
    "rotated_original_pcd = original_pcd.rotate((R0))\n",
    "rotated_original_pcd_2 = original_pcd_2.rotate((R1))\n",
    "rotated_original_pcd_3 = original_pcd_3.rotate((R2))"
   ]
  },
  {
   "cell_type": "code",
   "execution_count": null,
   "id": "d612ec52",
   "metadata": {},
   "outputs": [],
   "source": []
  },
  {
   "cell_type": "code",
   "execution_count": null,
   "id": "6dbb347c",
   "metadata": {},
   "outputs": [],
   "source": []
  },
  {
   "cell_type": "code",
   "execution_count": null,
   "id": "33f26ad8",
   "metadata": {},
   "outputs": [],
   "source": []
  },
  {
   "cell_type": "markdown",
   "id": "d4f0879f",
   "metadata": {},
   "source": [
    "# Merging Point Clouds \n",
    "\n",
    "## Merging without any optimization or transformation"
   ]
  },
  {
   "cell_type": "markdown",
   "id": "e6476f5c",
   "metadata": {},
   "source": [
    "## Images 5,6,7"
   ]
  },
  {
   "cell_type": "code",
   "execution_count": 20,
   "id": "42631822",
   "metadata": {},
   "outputs": [],
   "source": [
    "def load_point_clouds(voxel_size=0.01, pcd_range=[5,8]):\n",
    "    pcds_orig= []\n",
    "    pcds_gen = []\n",
    "    for i in range(pcd_range[0],pcd_range[1]):\n",
    "        original_pcd_i, generated_pcd_i = point_clouds.rebuild_point_clouds(rgb_images[i], depth_maps[i], i=i, result_root='./results/NYU/', display=False, condition_type=\"seg\")\n",
    "        pcd_down = original_pcd_i.voxel_down_sample(voxel_size=voxel_size)\n",
    "        pcds_orig.append(pcd_down)\n",
    "        \n",
    "        pcd_down = generated_pcd_i.voxel_down_sample(voxel_size=voxel_size)\n",
    "        pcds_gen.append(pcd_down)\n",
    "    return pcds_orig, pcds_gen"
   ]
  },
  {
   "cell_type": "code",
   "execution_count": 12,
   "id": "f045a34b",
   "metadata": {},
   "outputs": [],
   "source": [
    "voxel_size=0.001\n",
    "pcds_orig, pcds_gen = load_point_clouds(voxel_size=voxel_size)\n",
    "    \n",
    "#pcds= [rotated_original_pcd, rotated_original_pcd_2, rotated_original_pcd_3]\n",
    "#pcds_down = [pcd.voxel_down_sample(voxel_size=voxel_size) for pcd in [original_pcd, original_pcd_2, original_pcd_3]]\n",
    "\n",
    "#o3d.visualization.draw_geometries(pcds)"
   ]
  },
  {
   "cell_type": "code",
   "execution_count": 14,
   "id": "540ef2bd",
   "metadata": {},
   "outputs": [
    {
     "name": "stdout",
     "output_type": "stream",
     "text": [
      "[Open3D WARNING] GLFW Error: WGL: Failed to make context current: The requested transformation operation is not supported. \n"
     ]
    }
   ],
   "source": [
    "o3d.visualization.draw_geometries(pcds_orig)"
   ]
  },
  {
   "cell_type": "code",
   "execution_count": 15,
   "id": "ed8fa80f",
   "metadata": {},
   "outputs": [
    {
     "ename": "KeyboardInterrupt",
     "evalue": "",
     "output_type": "error",
     "traceback": [
      "\u001b[1;31m---------------------------------------------------------------------------\u001b[0m",
      "\u001b[1;31mKeyboardInterrupt\u001b[0m                         Traceback (most recent call last)",
      "Cell \u001b[1;32mIn[15], line 1\u001b[0m\n\u001b[1;32m----> 1\u001b[0m o3d\u001b[38;5;241m.\u001b[39mvisualization\u001b[38;5;241m.\u001b[39mdraw_geometries(pcds_gen)\n",
      "File \u001b[1;32m~\\anaconda3\\envs\\stable_diff\\lib\\site-packages\\IPython\\core\\displayhook.py:258\u001b[0m, in \u001b[0;36mDisplayHook.__call__\u001b[1;34m(self, result)\u001b[0m\n\u001b[0;32m    255\u001b[0m     sys\u001b[38;5;241m.\u001b[39mstdout\u001b[38;5;241m.\u001b[39mwrite(\u001b[38;5;28mself\u001b[39m\u001b[38;5;241m.\u001b[39mshell\u001b[38;5;241m.\u001b[39mseparate_out2)\n\u001b[0;32m    256\u001b[0m     sys\u001b[38;5;241m.\u001b[39mstdout\u001b[38;5;241m.\u001b[39mflush()\n\u001b[1;32m--> 258\u001b[0m \u001b[38;5;28;01mdef\u001b[39;00m \u001b[38;5;21m__call__\u001b[39m(\u001b[38;5;28mself\u001b[39m, result\u001b[38;5;241m=\u001b[39m\u001b[38;5;28;01mNone\u001b[39;00m):\n\u001b[0;32m    259\u001b[0m     \u001b[38;5;124;03m\"\"\"Printing with history cache management.\u001b[39;00m\n\u001b[0;32m    260\u001b[0m \n\u001b[0;32m    261\u001b[0m \u001b[38;5;124;03m    This is invoked every time the interpreter needs to print, and is\u001b[39;00m\n\u001b[0;32m    262\u001b[0m \u001b[38;5;124;03m    activated by setting the variable sys.displayhook to it.\u001b[39;00m\n\u001b[0;32m    263\u001b[0m \u001b[38;5;124;03m    \"\"\"\u001b[39;00m\n\u001b[0;32m    264\u001b[0m     \u001b[38;5;28mself\u001b[39m\u001b[38;5;241m.\u001b[39mcheck_for_underscore()\n",
      "\u001b[1;31mKeyboardInterrupt\u001b[0m: "
     ]
    }
   ],
   "source": [
    "o3d.visualization.draw_geometries(pcds_gen)"
   ]
  },
  {
   "cell_type": "code",
   "execution_count": 16,
   "id": "8d2bfb1b",
   "metadata": {},
   "outputs": [],
   "source": [
    "\n",
    "\n",
    "def pairwise_registration(source, target):\n",
    "    print(\"Apply point-to-plane ICP\")\n",
    "    icp_coarse = o3d.pipelines.registration.registration_icp(\n",
    "        source, target, max_correspondence_distance_coarse, np.identity(4),\n",
    "        o3d.pipelines.registration.TransformationEstimationPointToPlane())\n",
    "    icp_fine = o3d.pipelines.registration.registration_icp(\n",
    "        source, target, max_correspondence_distance_fine,\n",
    "        icp_coarse.transformation,\n",
    "        o3d.pipelines.registration.TransformationEstimationPointToPlane())\n",
    "    transformation_icp = icp_fine.transformation\n",
    "    information_icp = o3d.pipelines.registration.get_information_matrix_from_point_clouds(\n",
    "        source, target, max_correspondence_distance_fine,\n",
    "        icp_fine.transformation)\n",
    "    return transformation_icp, information_icp\n",
    "\n",
    "\n",
    "def full_registration(pcds, max_correspondence_distance_coarse,\n",
    "                      max_correspondence_distance_fine):\n",
    "    pose_graph = o3d.pipelines.registration.PoseGraph()\n",
    "    odometry = np.identity(4)\n",
    "    pose_graph.nodes.append(o3d.pipelines.registration.PoseGraphNode(odometry))\n",
    "    n_pcds = len(pcds)\n",
    "    for source_id in range(n_pcds):\n",
    "        for target_id in range(source_id + 1, n_pcds):\n",
    "            transformation_icp, information_icp = pairwise_registration(\n",
    "                pcds[source_id], pcds[target_id])\n",
    "            print(\"Build o3d.pipelines.registration.PoseGraph\")\n",
    "            if target_id == source_id + 1:  # odometry case\n",
    "                odometry = np.dot(transformation_icp, odometry)\n",
    "                pose_graph.nodes.append(\n",
    "                    o3d.pipelines.registration.PoseGraphNode(\n",
    "                        np.linalg.inv(odometry)))\n",
    "                pose_graph.edges.append(\n",
    "                    o3d.pipelines.registration.PoseGraphEdge(source_id,\n",
    "                                                             target_id,\n",
    "                                                             transformation_icp,\n",
    "                                                             information_icp,\n",
    "                                                             uncertain=False))\n",
    "            else:  # loop closure case\n",
    "                pose_graph.edges.append(\n",
    "                    o3d.pipelines.registration.PoseGraphEdge(source_id,\n",
    "                                                             target_id,\n",
    "                                                             transformation_icp,\n",
    "                                                             information_icp,\n",
    "                                                             uncertain=True))\n",
    "    return pose_graph"
   ]
  },
  {
   "cell_type": "code",
   "execution_count": 17,
   "id": "7ac9e850",
   "metadata": {},
   "outputs": [
    {
     "name": "stdout",
     "output_type": "stream",
     "text": [
      "Full registration ...\n",
      "Apply point-to-plane ICP\n",
      "[Open3D DEBUG] ICP Iteration #0: Fitness 0.3760, RMSE 0.0081\n",
      "[Open3D DEBUG] Residual : 4.16e-05 (# of elements : 101251)\n",
      "[Open3D DEBUG] ICP Iteration #1: Fitness 0.3834, RMSE 0.0079\n",
      "[Open3D DEBUG] Residual : 4.02e-05 (# of elements : 103264)\n",
      "[Open3D DEBUG] ICP Iteration #2: Fitness 0.3884, RMSE 0.0077\n",
      "[Open3D DEBUG] Residual : 3.86e-05 (# of elements : 104613)\n",
      "[Open3D DEBUG] ICP Iteration #3: Fitness 0.3922, RMSE 0.0076\n",
      "[Open3D DEBUG] Residual : 3.76e-05 (# of elements : 105624)\n",
      "[Open3D DEBUG] ICP Iteration #4: Fitness 0.3953, RMSE 0.0076\n",
      "[Open3D DEBUG] Residual : 3.70e-05 (# of elements : 106471)\n",
      "[Open3D DEBUG] ICP Iteration #5: Fitness 0.3984, RMSE 0.0076\n",
      "[Open3D DEBUG] Residual : 3.68e-05 (# of elements : 107308)\n",
      "[Open3D DEBUG] ICP Iteration #6: Fitness 0.4017, RMSE 0.0076\n",
      "[Open3D DEBUG] Residual : 3.66e-05 (# of elements : 108193)\n",
      "[Open3D DEBUG] ICP Iteration #7: Fitness 0.4042, RMSE 0.0077\n",
      "[Open3D DEBUG] Residual : 3.66e-05 (# of elements : 108846)\n",
      "[Open3D DEBUG] ICP Iteration #8: Fitness 0.4074, RMSE 0.0077\n",
      "[Open3D DEBUG] Residual : 3.68e-05 (# of elements : 109728)\n",
      "[Open3D DEBUG] ICP Iteration #9: Fitness 0.4112, RMSE 0.0076\n",
      "[Open3D DEBUG] Residual : 3.68e-05 (# of elements : 110750)\n",
      "[Open3D DEBUG] ICP Iteration #10: Fitness 0.4165, RMSE 0.0076\n",
      "[Open3D DEBUG] Residual : 3.68e-05 (# of elements : 112181)\n",
      "[Open3D DEBUG] ICP Iteration #11: Fitness 0.4215, RMSE 0.0075\n",
      "[Open3D DEBUG] Residual : 3.62e-05 (# of elements : 113506)\n",
      "[Open3D DEBUG] ICP Iteration #12: Fitness 0.4249, RMSE 0.0075\n",
      "[Open3D DEBUG] Residual : 3.57e-05 (# of elements : 114429)\n",
      "[Open3D DEBUG] ICP Iteration #13: Fitness 0.4275, RMSE 0.0074\n",
      "[Open3D DEBUG] Residual : 3.51e-05 (# of elements : 115142)\n",
      "[Open3D DEBUG] ICP Iteration #14: Fitness 0.4295, RMSE 0.0074\n",
      "[Open3D DEBUG] Residual : 3.48e-05 (# of elements : 115662)\n",
      "[Open3D DEBUG] ICP Iteration #15: Fitness 0.4322, RMSE 0.0074\n",
      "[Open3D DEBUG] Residual : 3.46e-05 (# of elements : 116404)\n",
      "[Open3D DEBUG] ICP Iteration #16: Fitness 0.4351, RMSE 0.0074\n",
      "[Open3D DEBUG] Residual : 3.46e-05 (# of elements : 117168)\n",
      "[Open3D DEBUG] ICP Iteration #17: Fitness 0.4377, RMSE 0.0074\n",
      "[Open3D DEBUG] Residual : 3.47e-05 (# of elements : 117873)\n",
      "[Open3D DEBUG] ICP Iteration #18: Fitness 0.4401, RMSE 0.0074\n",
      "[Open3D DEBUG] Residual : 3.50e-05 (# of elements : 118518)\n",
      "[Open3D DEBUG] ICP Iteration #19: Fitness 0.4424, RMSE 0.0075\n",
      "[Open3D DEBUG] Residual : 3.53e-05 (# of elements : 119145)\n",
      "[Open3D DEBUG] ICP Iteration #20: Fitness 0.4446, RMSE 0.0075\n",
      "[Open3D DEBUG] Residual : 3.55e-05 (# of elements : 119745)\n",
      "[Open3D DEBUG] ICP Iteration #21: Fitness 0.4469, RMSE 0.0075\n",
      "[Open3D DEBUG] Residual : 3.57e-05 (# of elements : 120359)\n",
      "[Open3D DEBUG] ICP Iteration #22: Fitness 0.4491, RMSE 0.0075\n",
      "[Open3D DEBUG] Residual : 3.58e-05 (# of elements : 120956)\n",
      "[Open3D DEBUG] ICP Iteration #23: Fitness 0.4516, RMSE 0.0075\n",
      "[Open3D DEBUG] Residual : 3.59e-05 (# of elements : 121619)\n",
      "[Open3D DEBUG] ICP Iteration #24: Fitness 0.4538, RMSE 0.0075\n",
      "[Open3D DEBUG] Residual : 3.61e-05 (# of elements : 122205)\n",
      "[Open3D DEBUG] ICP Iteration #25: Fitness 0.4564, RMSE 0.0076\n",
      "[Open3D DEBUG] Residual : 3.61e-05 (# of elements : 122921)\n",
      "[Open3D DEBUG] ICP Iteration #26: Fitness 0.4586, RMSE 0.0076\n",
      "[Open3D DEBUG] Residual : 3.60e-05 (# of elements : 123501)\n",
      "[Open3D DEBUG] ICP Iteration #27: Fitness 0.4604, RMSE 0.0076\n",
      "[Open3D DEBUG] Residual : 3.59e-05 (# of elements : 124004)\n",
      "[Open3D DEBUG] ICP Iteration #28: Fitness 0.4622, RMSE 0.0076\n",
      "[Open3D DEBUG] Residual : 3.59e-05 (# of elements : 124479)\n",
      "[Open3D DEBUG] ICP Iteration #29: Fitness 0.4638, RMSE 0.0076\n",
      "[Open3D DEBUG] Residual : 3.60e-05 (# of elements : 124908)\n",
      "[Open3D DEBUG] ICP Iteration #0: Fitness 0.0471, RMSE 0.0010\n",
      "[Open3D DEBUG] Residual : 5.02e-07 (# of elements : 12694)\n",
      "[Open3D DEBUG] ICP Iteration #1: Fitness 0.0476, RMSE 0.0010\n",
      "[Open3D DEBUG] Residual : 4.98e-07 (# of elements : 12811)\n",
      "[Open3D DEBUG] ICP Iteration #2: Fitness 0.0481, RMSE 0.0010\n",
      "[Open3D DEBUG] Residual : 4.96e-07 (# of elements : 12963)\n",
      "[Open3D DEBUG] ICP Iteration #3: Fitness 0.0485, RMSE 0.0010\n",
      "[Open3D DEBUG] Residual : 4.93e-07 (# of elements : 13057)\n",
      "[Open3D DEBUG] ICP Iteration #4: Fitness 0.0489, RMSE 0.0010\n",
      "[Open3D DEBUG] Residual : 4.92e-07 (# of elements : 13156)\n",
      "[Open3D DEBUG] ICP Iteration #5: Fitness 0.0492, RMSE 0.0010\n",
      "[Open3D DEBUG] Residual : 4.93e-07 (# of elements : 13256)\n",
      "[Open3D DEBUG] ICP Iteration #6: Fitness 0.0495, RMSE 0.0010\n",
      "[Open3D DEBUG] Residual : 4.91e-07 (# of elements : 13322)\n",
      "[Open3D DEBUG] ICP Iteration #7: Fitness 0.0495, RMSE 0.0010\n",
      "[Open3D DEBUG] Residual : 4.88e-07 (# of elements : 13327)\n",
      "[Open3D DEBUG] ICP Iteration #8: Fitness 0.0495, RMSE 0.0010\n",
      "[Open3D DEBUG] Residual : 4.87e-07 (# of elements : 13344)\n",
      "[Open3D DEBUG] ICP Iteration #9: Fitness 0.0498, RMSE 0.0010\n",
      "[Open3D DEBUG] Residual : 4.90e-07 (# of elements : 13403)\n",
      "[Open3D DEBUG] ICP Iteration #10: Fitness 0.0499, RMSE 0.0010\n",
      "[Open3D DEBUG] Residual : 4.89e-07 (# of elements : 13426)\n",
      "[Open3D DEBUG] ICP Iteration #11: Fitness 0.0500, RMSE 0.0010\n",
      "[Open3D DEBUG] Residual : 4.91e-07 (# of elements : 13457)\n",
      "[Open3D DEBUG] ICP Iteration #12: Fitness 0.0501, RMSE 0.0010\n",
      "[Open3D DEBUG] Residual : 4.91e-07 (# of elements : 13503)\n",
      "[Open3D DEBUG] ICP Iteration #13: Fitness 0.0503, RMSE 0.0010\n",
      "[Open3D DEBUG] Residual : 4.91e-07 (# of elements : 13534)\n",
      "[Open3D DEBUG] ICP Iteration #14: Fitness 0.0503, RMSE 0.0010\n",
      "[Open3D DEBUG] Residual : 4.92e-07 (# of elements : 13546)\n",
      "[Open3D DEBUG] ICP Iteration #15: Fitness 0.0504, RMSE 0.0010\n",
      "[Open3D DEBUG] Residual : 4.92e-07 (# of elements : 13572)\n",
      "[Open3D DEBUG] ICP Iteration #16: Fitness 0.0505, RMSE 0.0010\n",
      "[Open3D DEBUG] Residual : 4.92e-07 (# of elements : 13598)\n",
      "[Open3D DEBUG] ICP Iteration #17: Fitness 0.0505, RMSE 0.0010\n",
      "[Open3D DEBUG] Residual : 4.94e-07 (# of elements : 13606)\n",
      "[Open3D DEBUG] ICP Iteration #18: Fitness 0.0506, RMSE 0.0010\n",
      "[Open3D DEBUG] Residual : 4.97e-07 (# of elements : 13632)\n",
      "[Open3D DEBUG] ICP Iteration #19: Fitness 0.0507, RMSE 0.0010\n",
      "[Open3D DEBUG] Residual : 4.95e-07 (# of elements : 13658)\n",
      "[Open3D DEBUG] ICP Iteration #20: Fitness 0.0508, RMSE 0.0010\n",
      "[Open3D DEBUG] Residual : 4.95e-07 (# of elements : 13688)\n",
      "[Open3D DEBUG] ICP Iteration #21: Fitness 0.0507, RMSE 0.0010\n",
      "[Open3D DEBUG] Residual : 4.95e-07 (# of elements : 13658)\n",
      "[Open3D DEBUG] ICP Iteration #22: Fitness 0.0509, RMSE 0.0010\n",
      "[Open3D DEBUG] Residual : 4.96e-07 (# of elements : 13703)\n",
      "[Open3D DEBUG] ICP Iteration #23: Fitness 0.0510, RMSE 0.0010\n",
      "[Open3D DEBUG] Residual : 4.95e-07 (# of elements : 13729)\n",
      "[Open3D DEBUG] ICP Iteration #24: Fitness 0.0511, RMSE 0.0010\n",
      "[Open3D DEBUG] Residual : 4.93e-07 (# of elements : 13749)\n",
      "[Open3D DEBUG] ICP Iteration #25: Fitness 0.0511, RMSE 0.0010\n",
      "[Open3D DEBUG] Residual : 4.94e-07 (# of elements : 13758)\n",
      "[Open3D DEBUG] ICP Iteration #26: Fitness 0.0512, RMSE 0.0010\n",
      "[Open3D DEBUG] Residual : 4.94e-07 (# of elements : 13792)\n",
      "[Open3D DEBUG] ICP Iteration #27: Fitness 0.0514, RMSE 0.0010\n",
      "[Open3D DEBUG] Residual : 4.95e-07 (# of elements : 13833)\n",
      "[Open3D DEBUG] ICP Iteration #28: Fitness 0.0515, RMSE 0.0010\n",
      "[Open3D DEBUG] Residual : 4.95e-07 (# of elements : 13863)\n",
      "[Open3D DEBUG] ICP Iteration #29: Fitness 0.0516, RMSE 0.0010\n",
      "[Open3D DEBUG] Residual : 4.95e-07 (# of elements : 13885)\n",
      "Build o3d.pipelines.registration.PoseGraph\n",
      "Apply point-to-plane ICP\n",
      "[Open3D DEBUG] ICP Iteration #0: Fitness 0.0871, RMSE 0.0086\n",
      "[Open3D DEBUG] Residual : 4.91e-05 (# of elements : 23466)\n",
      "[Open3D DEBUG] ICP Iteration #1: Fitness 0.0885, RMSE 0.0086\n",
      "[Open3D DEBUG] Residual : 4.85e-05 (# of elements : 23827)\n",
      "[Open3D DEBUG] ICP Iteration #2: Fitness 0.0903, RMSE 0.0086\n",
      "[Open3D DEBUG] Residual : 4.78e-05 (# of elements : 24311)\n",
      "[Open3D DEBUG] ICP Iteration #3: Fitness 0.0921, RMSE 0.0086\n",
      "[Open3D DEBUG] Residual : 4.77e-05 (# of elements : 24807)\n",
      "[Open3D DEBUG] ICP Iteration #4: Fitness 0.0932, RMSE 0.0086\n",
      "[Open3D DEBUG] Residual : 4.80e-05 (# of elements : 25089)\n",
      "[Open3D DEBUG] ICP Iteration #5: Fitness 0.0941, RMSE 0.0087\n",
      "[Open3D DEBUG] Residual : 4.83e-05 (# of elements : 25337)\n",
      "[Open3D DEBUG] ICP Iteration #6: Fitness 0.0945, RMSE 0.0087\n",
      "[Open3D DEBUG] Residual : 4.85e-05 (# of elements : 25440)\n",
      "[Open3D DEBUG] ICP Iteration #7: Fitness 0.0949, RMSE 0.0087\n",
      "[Open3D DEBUG] Residual : 4.88e-05 (# of elements : 25562)\n",
      "[Open3D DEBUG] ICP Iteration #8: Fitness 0.0951, RMSE 0.0086\n",
      "[Open3D DEBUG] Residual : 4.90e-05 (# of elements : 25609)\n",
      "[Open3D DEBUG] ICP Iteration #9: Fitness 0.0953, RMSE 0.0086\n",
      "[Open3D DEBUG] Residual : 4.91e-05 (# of elements : 25664)\n"
     ]
    },
    {
     "name": "stdout",
     "output_type": "stream",
     "text": [
      "[Open3D DEBUG] ICP Iteration #10: Fitness 0.0953, RMSE 0.0085\n",
      "[Open3D DEBUG] Residual : 4.87e-05 (# of elements : 25664)\n",
      "[Open3D DEBUG] ICP Iteration #11: Fitness 0.0956, RMSE 0.0085\n",
      "[Open3D DEBUG] Residual : 4.87e-05 (# of elements : 25747)\n",
      "[Open3D DEBUG] ICP Iteration #12: Fitness 0.0960, RMSE 0.0085\n",
      "[Open3D DEBUG] Residual : 4.86e-05 (# of elements : 25859)\n",
      "[Open3D DEBUG] ICP Iteration #13: Fitness 0.0964, RMSE 0.0085\n",
      "[Open3D DEBUG] Residual : 4.82e-05 (# of elements : 25960)\n",
      "[Open3D DEBUG] ICP Iteration #14: Fitness 0.0969, RMSE 0.0085\n",
      "[Open3D DEBUG] Residual : 4.84e-05 (# of elements : 26085)\n",
      "[Open3D DEBUG] ICP Iteration #15: Fitness 0.0973, RMSE 0.0085\n",
      "[Open3D DEBUG] Residual : 4.88e-05 (# of elements : 26191)\n",
      "[Open3D DEBUG] ICP Iteration #16: Fitness 0.0976, RMSE 0.0085\n",
      "[Open3D DEBUG] Residual : 4.89e-05 (# of elements : 26278)\n",
      "[Open3D DEBUG] ICP Iteration #17: Fitness 0.0978, RMSE 0.0085\n",
      "[Open3D DEBUG] Residual : 4.88e-05 (# of elements : 26328)\n",
      "[Open3D DEBUG] ICP Iteration #18: Fitness 0.0979, RMSE 0.0086\n",
      "[Open3D DEBUG] Residual : 4.90e-05 (# of elements : 26379)\n",
      "[Open3D DEBUG] ICP Iteration #19: Fitness 0.0982, RMSE 0.0086\n",
      "[Open3D DEBUG] Residual : 4.91e-05 (# of elements : 26450)\n",
      "[Open3D DEBUG] ICP Iteration #20: Fitness 0.0985, RMSE 0.0086\n",
      "[Open3D DEBUG] Residual : 4.90e-05 (# of elements : 26529)\n",
      "[Open3D DEBUG] ICP Iteration #21: Fitness 0.0988, RMSE 0.0086\n",
      "[Open3D DEBUG] Residual : 4.90e-05 (# of elements : 26610)\n",
      "[Open3D DEBUG] ICP Iteration #22: Fitness 0.0992, RMSE 0.0086\n",
      "[Open3D DEBUG] Residual : 4.92e-05 (# of elements : 26714)\n",
      "[Open3D DEBUG] ICP Iteration #23: Fitness 0.0995, RMSE 0.0086\n",
      "[Open3D DEBUG] Residual : 4.91e-05 (# of elements : 26787)\n",
      "[Open3D DEBUG] ICP Iteration #24: Fitness 0.0998, RMSE 0.0086\n",
      "[Open3D DEBUG] Residual : 4.89e-05 (# of elements : 26877)\n",
      "[Open3D DEBUG] ICP Iteration #25: Fitness 0.1001, RMSE 0.0086\n",
      "[Open3D DEBUG] Residual : 4.88e-05 (# of elements : 26947)\n",
      "[Open3D DEBUG] ICP Iteration #26: Fitness 0.1002, RMSE 0.0086\n",
      "[Open3D DEBUG] Residual : 4.89e-05 (# of elements : 26988)\n",
      "[Open3D DEBUG] ICP Iteration #27: Fitness 0.1003, RMSE 0.0086\n",
      "[Open3D DEBUG] Residual : 4.88e-05 (# of elements : 27000)\n",
      "[Open3D DEBUG] ICP Iteration #28: Fitness 0.1004, RMSE 0.0086\n",
      "[Open3D DEBUG] Residual : 4.90e-05 (# of elements : 27026)\n",
      "[Open3D DEBUG] ICP Iteration #29: Fitness 0.1004, RMSE 0.0086\n",
      "[Open3D DEBUG] Residual : 4.95e-05 (# of elements : 27034)\n",
      "[Open3D DEBUG] ICP Iteration #0: Fitness 0.0051, RMSE 0.0010\n",
      "[Open3D DEBUG] Residual : 4.88e-07 (# of elements : 1362)\n",
      "[Open3D DEBUG] ICP Iteration #1: Fitness 0.0052, RMSE 0.0010\n",
      "[Open3D DEBUG] Residual : 5.05e-07 (# of elements : 1400)\n",
      "[Open3D DEBUG] ICP Iteration #2: Fitness 0.0053, RMSE 0.0010\n",
      "[Open3D DEBUG] Residual : 4.99e-07 (# of elements : 1434)\n",
      "[Open3D DEBUG] ICP Iteration #3: Fitness 0.0054, RMSE 0.0010\n",
      "[Open3D DEBUG] Residual : 4.89e-07 (# of elements : 1452)\n",
      "[Open3D DEBUG] ICP Iteration #4: Fitness 0.0055, RMSE 0.0010\n",
      "[Open3D DEBUG] Residual : 4.70e-07 (# of elements : 1471)\n",
      "[Open3D DEBUG] ICP Iteration #5: Fitness 0.0056, RMSE 0.0010\n",
      "[Open3D DEBUG] Residual : 4.75e-07 (# of elements : 1505)\n",
      "[Open3D DEBUG] ICP Iteration #6: Fitness 0.0056, RMSE 0.0010\n",
      "[Open3D DEBUG] Residual : 4.65e-07 (# of elements : 1507)\n",
      "[Open3D DEBUG] ICP Iteration #7: Fitness 0.0056, RMSE 0.0010\n",
      "[Open3D DEBUG] Residual : 4.64e-07 (# of elements : 1518)\n",
      "[Open3D DEBUG] ICP Iteration #8: Fitness 0.0057, RMSE 0.0010\n",
      "[Open3D DEBUG] Residual : 4.65e-07 (# of elements : 1529)\n",
      "[Open3D DEBUG] ICP Iteration #9: Fitness 0.0058, RMSE 0.0010\n",
      "[Open3D DEBUG] Residual : 4.75e-07 (# of elements : 1553)\n",
      "[Open3D DEBUG] ICP Iteration #10: Fitness 0.0057, RMSE 0.0010\n",
      "[Open3D DEBUG] Residual : 4.72e-07 (# of elements : 1542)\n",
      "[Open3D DEBUG] ICP Iteration #11: Fitness 0.0057, RMSE 0.0010\n",
      "[Open3D DEBUG] Residual : 4.63e-07 (# of elements : 1537)\n",
      "[Open3D DEBUG] ICP Iteration #12: Fitness 0.0057, RMSE 0.0010\n",
      "[Open3D DEBUG] Residual : 4.50e-07 (# of elements : 1536)\n",
      "[Open3D DEBUG] ICP Iteration #13: Fitness 0.0058, RMSE 0.0010\n",
      "[Open3D DEBUG] Residual : 4.48e-07 (# of elements : 1550)\n",
      "[Open3D DEBUG] ICP Iteration #14: Fitness 0.0058, RMSE 0.0010\n",
      "[Open3D DEBUG] Residual : 4.57e-07 (# of elements : 1559)\n",
      "[Open3D DEBUG] ICP Iteration #15: Fitness 0.0058, RMSE 0.0010\n",
      "[Open3D DEBUG] Residual : 4.52e-07 (# of elements : 1552)\n",
      "Build o3d.pipelines.registration.PoseGraph\n",
      "Apply point-to-plane ICP\n",
      "[Open3D DEBUG] ICP Iteration #0: Fitness 0.0765, RMSE 0.0091\n",
      "[Open3D DEBUG] Residual : 5.43e-05 (# of elements : 22390)\n",
      "[Open3D DEBUG] ICP Iteration #1: Fitness 0.0787, RMSE 0.0089\n",
      "[Open3D DEBUG] Residual : 5.15e-05 (# of elements : 23044)\n",
      "[Open3D DEBUG] ICP Iteration #2: Fitness 0.0838, RMSE 0.0088\n",
      "[Open3D DEBUG] Residual : 5.00e-05 (# of elements : 24518)\n",
      "[Open3D DEBUG] ICP Iteration #3: Fitness 0.0889, RMSE 0.0087\n",
      "[Open3D DEBUG] Residual : 4.91e-05 (# of elements : 26030)\n",
      "[Open3D DEBUG] ICP Iteration #4: Fitness 0.0929, RMSE 0.0086\n",
      "[Open3D DEBUG] Residual : 4.77e-05 (# of elements : 27177)\n",
      "[Open3D DEBUG] ICP Iteration #5: Fitness 0.0963, RMSE 0.0086\n",
      "[Open3D DEBUG] Residual : 4.76e-05 (# of elements : 28188)\n",
      "[Open3D DEBUG] ICP Iteration #6: Fitness 0.0989, RMSE 0.0086\n",
      "[Open3D DEBUG] Residual : 4.76e-05 (# of elements : 28945)\n",
      "[Open3D DEBUG] ICP Iteration #7: Fitness 0.1006, RMSE 0.0086\n",
      "[Open3D DEBUG] Residual : 4.82e-05 (# of elements : 29433)\n",
      "[Open3D DEBUG] ICP Iteration #8: Fitness 0.1015, RMSE 0.0085\n",
      "[Open3D DEBUG] Residual : 4.82e-05 (# of elements : 29711)\n",
      "[Open3D DEBUG] ICP Iteration #9: Fitness 0.1025, RMSE 0.0086\n",
      "[Open3D DEBUG] Residual : 4.84e-05 (# of elements : 29988)\n",
      "[Open3D DEBUG] ICP Iteration #10: Fitness 0.1032, RMSE 0.0085\n",
      "[Open3D DEBUG] Residual : 4.86e-05 (# of elements : 30213)\n",
      "[Open3D DEBUG] ICP Iteration #11: Fitness 0.1040, RMSE 0.0085\n",
      "[Open3D DEBUG] Residual : 4.88e-05 (# of elements : 30431)\n",
      "[Open3D DEBUG] ICP Iteration #12: Fitness 0.1045, RMSE 0.0085\n",
      "[Open3D DEBUG] Residual : 4.91e-05 (# of elements : 30594)\n",
      "[Open3D DEBUG] ICP Iteration #13: Fitness 0.1051, RMSE 0.0085\n",
      "[Open3D DEBUG] Residual : 4.93e-05 (# of elements : 30758)\n",
      "[Open3D DEBUG] ICP Iteration #14: Fitness 0.1056, RMSE 0.0085\n",
      "[Open3D DEBUG] Residual : 4.92e-05 (# of elements : 30894)\n",
      "[Open3D DEBUG] ICP Iteration #15: Fitness 0.1059, RMSE 0.0085\n",
      "[Open3D DEBUG] Residual : 4.91e-05 (# of elements : 31006)\n",
      "[Open3D DEBUG] ICP Iteration #16: Fitness 0.1064, RMSE 0.0085\n",
      "[Open3D DEBUG] Residual : 4.89e-05 (# of elements : 31128)\n",
      "[Open3D DEBUG] ICP Iteration #17: Fitness 0.1066, RMSE 0.0085\n",
      "[Open3D DEBUG] Residual : 4.87e-05 (# of elements : 31204)\n",
      "[Open3D DEBUG] ICP Iteration #18: Fitness 0.1068, RMSE 0.0085\n",
      "[Open3D DEBUG] Residual : 4.86e-05 (# of elements : 31258)\n",
      "[Open3D DEBUG] ICP Iteration #19: Fitness 0.1069, RMSE 0.0085\n",
      "[Open3D DEBUG] Residual : 4.86e-05 (# of elements : 31302)\n",
      "[Open3D DEBUG] ICP Iteration #20: Fitness 0.1070, RMSE 0.0085\n",
      "[Open3D DEBUG] Residual : 4.84e-05 (# of elements : 31307)\n",
      "[Open3D DEBUG] ICP Iteration #21: Fitness 0.1071, RMSE 0.0085\n",
      "[Open3D DEBUG] Residual : 4.84e-05 (# of elements : 31354)\n",
      "[Open3D DEBUG] ICP Iteration #22: Fitness 0.1074, RMSE 0.0085\n",
      "[Open3D DEBUG] Residual : 4.84e-05 (# of elements : 31425)\n",
      "[Open3D DEBUG] ICP Iteration #23: Fitness 0.1076, RMSE 0.0085\n",
      "[Open3D DEBUG] Residual : 4.84e-05 (# of elements : 31500)\n",
      "[Open3D DEBUG] ICP Iteration #24: Fitness 0.1078, RMSE 0.0085\n",
      "[Open3D DEBUG] Residual : 4.82e-05 (# of elements : 31548)\n",
      "[Open3D DEBUG] ICP Iteration #25: Fitness 0.1081, RMSE 0.0085\n",
      "[Open3D DEBUG] Residual : 4.82e-05 (# of elements : 31637)\n",
      "[Open3D DEBUG] ICP Iteration #26: Fitness 0.1084, RMSE 0.0085\n",
      "[Open3D DEBUG] Residual : 4.80e-05 (# of elements : 31732)\n",
      "[Open3D DEBUG] ICP Iteration #27: Fitness 0.1088, RMSE 0.0085\n",
      "[Open3D DEBUG] Residual : 4.80e-05 (# of elements : 31851)\n",
      "[Open3D DEBUG] ICP Iteration #28: Fitness 0.1092, RMSE 0.0085\n",
      "[Open3D DEBUG] Residual : 4.80e-05 (# of elements : 31972)\n",
      "[Open3D DEBUG] ICP Iteration #29: Fitness 0.1096, RMSE 0.0085\n",
      "[Open3D DEBUG] Residual : 4.80e-05 (# of elements : 32090)\n",
      "[Open3D DEBUG] ICP Iteration #0: Fitness 0.0059, RMSE 0.0010\n",
      "[Open3D DEBUG] Residual : 4.50e-07 (# of elements : 1722)\n",
      "[Open3D DEBUG] ICP Iteration #1: Fitness 0.0059, RMSE 0.0010\n",
      "[Open3D DEBUG] Residual : 4.52e-07 (# of elements : 1734)\n",
      "[Open3D DEBUG] ICP Iteration #2: Fitness 0.0059, RMSE 0.0010\n",
      "[Open3D DEBUG] Residual : 4.50e-07 (# of elements : 1738)\n"
     ]
    },
    {
     "name": "stdout",
     "output_type": "stream",
     "text": [
      "[Open3D DEBUG] ICP Iteration #3: Fitness 0.0060, RMSE 0.0010\n",
      "[Open3D DEBUG] Residual : 4.40e-07 (# of elements : 1748)\n",
      "[Open3D DEBUG] ICP Iteration #4: Fitness 0.0061, RMSE 0.0010\n",
      "[Open3D DEBUG] Residual : 4.43e-07 (# of elements : 1771)\n",
      "[Open3D DEBUG] ICP Iteration #5: Fitness 0.0061, RMSE 0.0010\n",
      "[Open3D DEBUG] Residual : 4.44e-07 (# of elements : 1772)\n",
      "[Open3D DEBUG] ICP Iteration #6: Fitness 0.0061, RMSE 0.0010\n",
      "[Open3D DEBUG] Residual : 4.49e-07 (# of elements : 1777)\n",
      "[Open3D DEBUG] ICP Iteration #7: Fitness 0.0061, RMSE 0.0010\n",
      "[Open3D DEBUG] Residual : 4.48e-07 (# of elements : 1781)\n",
      "[Open3D DEBUG] ICP Iteration #8: Fitness 0.0061, RMSE 0.0010\n",
      "[Open3D DEBUG] Residual : 4.49e-07 (# of elements : 1778)\n",
      "[Open3D DEBUG] ICP Iteration #9: Fitness 0.0061, RMSE 0.0010\n",
      "[Open3D DEBUG] Residual : 4.53e-07 (# of elements : 1781)\n",
      "[Open3D DEBUG] ICP Iteration #10: Fitness 0.0061, RMSE 0.0010\n",
      "[Open3D DEBUG] Residual : 4.59e-07 (# of elements : 1782)\n",
      "[Open3D DEBUG] ICP Iteration #11: Fitness 0.0060, RMSE 0.0010\n",
      "[Open3D DEBUG] Residual : 4.51e-07 (# of elements : 1765)\n",
      "[Open3D DEBUG] ICP Iteration #12: Fitness 0.0060, RMSE 0.0010\n",
      "[Open3D DEBUG] Residual : 4.55e-07 (# of elements : 1767)\n",
      "[Open3D DEBUG] ICP Iteration #13: Fitness 0.0060, RMSE 0.0010\n",
      "[Open3D DEBUG] Residual : 4.52e-07 (# of elements : 1755)\n",
      "[Open3D DEBUG] ICP Iteration #14: Fitness 0.0060, RMSE 0.0010\n",
      "[Open3D DEBUG] Residual : 4.56e-07 (# of elements : 1760)\n",
      "[Open3D DEBUG] ICP Iteration #15: Fitness 0.0060, RMSE 0.0010\n",
      "[Open3D DEBUG] Residual : 4.61e-07 (# of elements : 1759)\n",
      "[Open3D DEBUG] ICP Iteration #16: Fitness 0.0060, RMSE 0.0010\n",
      "[Open3D DEBUG] Residual : 4.56e-07 (# of elements : 1755)\n",
      "[Open3D DEBUG] ICP Iteration #17: Fitness 0.0060, RMSE 0.0010\n",
      "[Open3D DEBUG] Residual : 4.55e-07 (# of elements : 1753)\n",
      "[Open3D DEBUG] ICP Iteration #18: Fitness 0.0060, RMSE 0.0010\n",
      "[Open3D DEBUG] Residual : 4.60e-07 (# of elements : 1753)\n",
      "[Open3D DEBUG] ICP Iteration #19: Fitness 0.0060, RMSE 0.0010\n",
      "[Open3D DEBUG] Residual : 4.59e-07 (# of elements : 1742)\n",
      "[Open3D DEBUG] ICP Iteration #20: Fitness 0.0059, RMSE 0.0010\n",
      "[Open3D DEBUG] Residual : 4.53e-07 (# of elements : 1731)\n",
      "[Open3D DEBUG] ICP Iteration #21: Fitness 0.0059, RMSE 0.0010\n",
      "[Open3D DEBUG] Residual : 4.48e-07 (# of elements : 1720)\n",
      "[Open3D DEBUG] ICP Iteration #22: Fitness 0.0059, RMSE 0.0010\n",
      "[Open3D DEBUG] Residual : 4.46e-07 (# of elements : 1715)\n",
      "[Open3D DEBUG] ICP Iteration #23: Fitness 0.0058, RMSE 0.0010\n",
      "[Open3D DEBUG] Residual : 4.45e-07 (# of elements : 1709)\n",
      "[Open3D DEBUG] ICP Iteration #24: Fitness 0.0058, RMSE 0.0010\n",
      "[Open3D DEBUG] Residual : 4.42e-07 (# of elements : 1701)\n",
      "[Open3D DEBUG] ICP Iteration #25: Fitness 0.0058, RMSE 0.0010\n",
      "[Open3D DEBUG] Residual : 4.42e-07 (# of elements : 1697)\n",
      "[Open3D DEBUG] ICP Iteration #26: Fitness 0.0058, RMSE 0.0010\n",
      "[Open3D DEBUG] Residual : 4.44e-07 (# of elements : 1707)\n",
      "[Open3D DEBUG] ICP Iteration #27: Fitness 0.0058, RMSE 0.0010\n",
      "[Open3D DEBUG] Residual : 4.45e-07 (# of elements : 1700)\n",
      "[Open3D DEBUG] ICP Iteration #28: Fitness 0.0058, RMSE 0.0010\n",
      "[Open3D DEBUG] Residual : 4.44e-07 (# of elements : 1701)\n",
      "[Open3D DEBUG] ICP Iteration #29: Fitness 0.0058, RMSE 0.0010\n",
      "[Open3D DEBUG] Residual : 4.43e-07 (# of elements : 1695)\n",
      "Build o3d.pipelines.registration.PoseGraph\n"
     ]
    }
   ],
   "source": [
    "print(\"Full registration ...\")\n",
    "max_correspondence_distance_coarse = voxel_size * 15\n",
    "max_correspondence_distance_fine = voxel_size * 1.5\n",
    "with o3d.utility.VerbosityContextManager(\n",
    "        o3d.utility.VerbosityLevel.Debug) as cm:\n",
    "    pose_graph = full_registration(pcds_orig,\n",
    "                                   max_correspondence_distance_coarse,\n",
    "                                   max_correspondence_distance_fine)"
   ]
  },
  {
   "cell_type": "code",
   "execution_count": 18,
   "id": "12b06aa0",
   "metadata": {},
   "outputs": [
    {
     "name": "stdout",
     "output_type": "stream",
     "text": [
      "Optimizing PoseGraph ...\n",
      "[Open3D DEBUG] Validating PoseGraph - finished.\n",
      "[Open3D DEBUG] [GlobalOptimizationLM] Optimizing PoseGraph having 3 nodes and 3 edges.\n",
      "[Open3D DEBUG] Line process weight : 0.012880\n",
      "[Open3D DEBUG] [Initial     ] residual : 1.919549e+01, lambda : 1.562100e-01\n",
      "[Open3D DEBUG] Maximum coefficient of right term < 1.000000e-06\n",
      "[Open3D DEBUG] [GlobalOptimizationLM] total time : 0.001 sec.\n",
      "[Open3D DEBUG] [GlobalOptimizationLM] Optimizing PoseGraph having 3 nodes and 2 edges.\n",
      "[Open3D DEBUG] Line process weight : 0.017574\n",
      "[Open3D DEBUG] [Initial     ] residual : 1.688562e-11, lambda : 1.562100e-01\n",
      "[Open3D DEBUG] Maximum coefficient of right term < 1.000000e-06\n",
      "[Open3D DEBUG] [GlobalOptimizationLM] total time : 0.000 sec.\n",
      "[Open3D DEBUG] CompensateReferencePoseGraphNode : reference : 0\n"
     ]
    }
   ],
   "source": [
    "print(\"Optimizing PoseGraph ...\")\n",
    "option = o3d.pipelines.registration.GlobalOptimizationOption(\n",
    "    max_correspondence_distance=max_correspondence_distance_fine,\n",
    "    edge_prune_threshold=0.25,\n",
    "    reference_node=0)\n",
    "with o3d.utility.VerbosityContextManager(\n",
    "        o3d.utility.VerbosityLevel.Debug) as cm:\n",
    "    o3d.pipelines.registration.global_optimization(\n",
    "        pose_graph,\n",
    "        o3d.pipelines.registration.GlobalOptimizationLevenbergMarquardt(),\n",
    "        o3d.pipelines.registration.GlobalOptimizationConvergenceCriteria(),\n",
    "        option)"
   ]
  },
  {
   "cell_type": "code",
   "execution_count": 19,
   "id": "22343ee2",
   "metadata": {},
   "outputs": [
    {
     "name": "stdout",
     "output_type": "stream",
     "text": [
      "Transform points and display\n",
      "[[ 1.00000000e+00  6.87094072e-26  2.06795153e-25  1.03397577e-25]\n",
      " [ 6.87095524e-26  1.00000000e+00  0.00000000e+00  0.00000000e+00]\n",
      " [-2.06795153e-25  0.00000000e+00  1.00000000e+00  0.00000000e+00]\n",
      " [ 0.00000000e+00  0.00000000e+00  0.00000000e+00  1.00000000e+00]]\n",
      "[[ 0.99980545  0.01450927  0.01336176  0.00675335]\n",
      " [-0.01515285  0.99866433  0.04939573  0.02116762]\n",
      " [-0.01262722 -0.04958859  0.9986899   0.04096849]\n",
      " [ 0.          0.          0.          1.        ]]\n",
      "[[ 0.89617027 -0.37467931 -0.2376852  -0.13754362]\n",
      " [ 0.34585059  0.92542889 -0.15481843 -0.01700631]\n",
      " [ 0.27796801  0.05654011  0.95892492  0.07660928]\n",
      " [ 0.          0.          0.          1.        ]]\n"
     ]
    }
   ],
   "source": [
    "print(\"Transform points and display\")\n",
    "for point_id in range(len(pcds_orig)):\n",
    "    print(pose_graph.nodes[point_id].pose)\n",
    "    pcds_orig[point_id].transform(pose_graph.nodes[point_id].pose)\n",
    "o3d.visualization.draw_geometries(pcds_orig)"
   ]
  },
  {
   "cell_type": "markdown",
   "id": "80e461a8",
   "metadata": {},
   "source": [
    "## Images 14,15"
   ]
  },
  {
   "cell_type": "code",
   "execution_count": 21,
   "id": "ee223615",
   "metadata": {},
   "outputs": [],
   "source": [
    "voxel_size=0.001\n",
    "pcds_orig_2, pcds_gen_2 = load_point_clouds(voxel_size=voxel_size, pcd_range=[14,16])"
   ]
  },
  {
   "cell_type": "code",
   "execution_count": 22,
   "id": "2e260f30",
   "metadata": {},
   "outputs": [
    {
     "name": "stdout",
     "output_type": "stream",
     "text": [
      "[Open3D WARNING] [ViewControl] SetViewPoint() failed because window height and width are not set.\n"
     ]
    }
   ],
   "source": [
    "o3d.visualization.draw_geometries(pcds_orig_2)"
   ]
  },
  {
   "cell_type": "code",
   "execution_count": 23,
   "id": "039eb0e6",
   "metadata": {},
   "outputs": [],
   "source": [
    "o3d.visualization.draw_geometries(pcds_gen_2)"
   ]
  },
  {
   "cell_type": "code",
   "execution_count": 33,
   "id": "6d60ef17",
   "metadata": {},
   "outputs": [
    {
     "name": "stdout",
     "output_type": "stream",
     "text": [
      "Full registration ...\n",
      "Apply point-to-plane ICP\n",
      "[Open3D DEBUG] ICP Iteration #0: Fitness 0.1673, RMSE 0.0099\n",
      "[Open3D DEBUG] Residual : 7.62e-05 (# of elements : 35143)\n",
      "[Open3D DEBUG] ICP Iteration #1: Fitness 0.2470, RMSE 0.0089\n",
      "[Open3D DEBUG] Residual : 6.30e-05 (# of elements : 51876)\n",
      "[Open3D DEBUG] ICP Iteration #2: Fitness 0.2875, RMSE 0.0078\n",
      "[Open3D DEBUG] Residual : 4.71e-05 (# of elements : 60383)\n",
      "[Open3D DEBUG] ICP Iteration #3: Fitness 0.3002, RMSE 0.0074\n",
      "[Open3D DEBUG] Residual : 4.15e-05 (# of elements : 63068)\n",
      "[Open3D DEBUG] ICP Iteration #4: Fitness 0.3058, RMSE 0.0073\n",
      "[Open3D DEBUG] Residual : 3.88e-05 (# of elements : 64225)\n",
      "[Open3D DEBUG] ICP Iteration #5: Fitness 0.3073, RMSE 0.0072\n",
      "[Open3D DEBUG] Residual : 3.77e-05 (# of elements : 64551)\n",
      "[Open3D DEBUG] ICP Iteration #6: Fitness 0.3080, RMSE 0.0071\n",
      "[Open3D DEBUG] Residual : 3.74e-05 (# of elements : 64697)\n",
      "[Open3D DEBUG] ICP Iteration #7: Fitness 0.3082, RMSE 0.0071\n",
      "[Open3D DEBUG] Residual : 3.73e-05 (# of elements : 64745)\n",
      "[Open3D DEBUG] ICP Iteration #8: Fitness 0.3084, RMSE 0.0071\n",
      "[Open3D DEBUG] Residual : 3.72e-05 (# of elements : 64775)\n",
      "[Open3D DEBUG] ICP Iteration #9: Fitness 0.3085, RMSE 0.0071\n",
      "[Open3D DEBUG] Residual : 3.72e-05 (# of elements : 64810)\n",
      "[Open3D DEBUG] ICP Iteration #10: Fitness 0.3087, RMSE 0.0071\n",
      "[Open3D DEBUG] Residual : 3.72e-05 (# of elements : 64854)\n",
      "[Open3D DEBUG] ICP Iteration #11: Fitness 0.3090, RMSE 0.0071\n",
      "[Open3D DEBUG] Residual : 3.72e-05 (# of elements : 64901)\n",
      "[Open3D DEBUG] ICP Iteration #12: Fitness 0.3090, RMSE 0.0071\n",
      "[Open3D DEBUG] Residual : 3.71e-05 (# of elements : 64899)\n",
      "[Open3D DEBUG] ICP Iteration #13: Fitness 0.3092, RMSE 0.0071\n",
      "[Open3D DEBUG] Residual : 3.71e-05 (# of elements : 64959)\n",
      "[Open3D DEBUG] ICP Iteration #14: Fitness 0.3096, RMSE 0.0071\n",
      "[Open3D DEBUG] Residual : 3.71e-05 (# of elements : 65025)\n",
      "[Open3D DEBUG] ICP Iteration #15: Fitness 0.3100, RMSE 0.0071\n",
      "[Open3D DEBUG] Residual : 3.71e-05 (# of elements : 65107)\n",
      "[Open3D DEBUG] ICP Iteration #16: Fitness 0.3102, RMSE 0.0071\n",
      "[Open3D DEBUG] Residual : 3.71e-05 (# of elements : 65156)\n",
      "[Open3D DEBUG] ICP Iteration #17: Fitness 0.3105, RMSE 0.0071\n",
      "[Open3D DEBUG] Residual : 3.71e-05 (# of elements : 65220)\n",
      "[Open3D DEBUG] ICP Iteration #18: Fitness 0.3107, RMSE 0.0071\n",
      "[Open3D DEBUG] Residual : 3.70e-05 (# of elements : 65259)\n",
      "[Open3D DEBUG] ICP Iteration #19: Fitness 0.3109, RMSE 0.0071\n",
      "[Open3D DEBUG] Residual : 3.69e-05 (# of elements : 65298)\n",
      "[Open3D DEBUG] ICP Iteration #20: Fitness 0.3112, RMSE 0.0071\n",
      "[Open3D DEBUG] Residual : 3.69e-05 (# of elements : 65364)\n",
      "[Open3D DEBUG] ICP Iteration #21: Fitness 0.3120, RMSE 0.0072\n",
      "[Open3D DEBUG] Residual : 3.71e-05 (# of elements : 65543)\n",
      "[Open3D DEBUG] ICP Iteration #22: Fitness 0.3128, RMSE 0.0072\n",
      "[Open3D DEBUG] Residual : 3.71e-05 (# of elements : 65703)\n",
      "[Open3D DEBUG] ICP Iteration #23: Fitness 0.3139, RMSE 0.0072\n",
      "[Open3D DEBUG] Residual : 3.73e-05 (# of elements : 65934)\n",
      "[Open3D DEBUG] ICP Iteration #24: Fitness 0.3157, RMSE 0.0073\n",
      "[Open3D DEBUG] Residual : 3.76e-05 (# of elements : 66304)\n",
      "[Open3D DEBUG] ICP Iteration #25: Fitness 0.3174, RMSE 0.0073\n",
      "[Open3D DEBUG] Residual : 3.78e-05 (# of elements : 66674)\n",
      "[Open3D DEBUG] ICP Iteration #26: Fitness 0.3188, RMSE 0.0073\n",
      "[Open3D DEBUG] Residual : 3.77e-05 (# of elements : 66957)\n",
      "[Open3D DEBUG] ICP Iteration #27: Fitness 0.3198, RMSE 0.0073\n",
      "[Open3D DEBUG] Residual : 3.75e-05 (# of elements : 67178)\n",
      "[Open3D DEBUG] ICP Iteration #28: Fitness 0.3206, RMSE 0.0073\n",
      "[Open3D DEBUG] Residual : 3.74e-05 (# of elements : 67343)\n",
      "[Open3D DEBUG] ICP Iteration #29: Fitness 0.3214, RMSE 0.0073\n",
      "[Open3D DEBUG] Residual : 3.73e-05 (# of elements : 67518)\n",
      "[Open3D DEBUG] ICP Iteration #0: Fitness 0.0484, RMSE 0.0010\n",
      "[Open3D DEBUG] Residual : 5.06e-07 (# of elements : 10167)\n",
      "[Open3D DEBUG] ICP Iteration #1: Fitness 0.0502, RMSE 0.0010\n",
      "[Open3D DEBUG] Residual : 5.04e-07 (# of elements : 10535)\n",
      "[Open3D DEBUG] ICP Iteration #2: Fitness 0.0525, RMSE 0.0010\n",
      "[Open3D DEBUG] Residual : 5.14e-07 (# of elements : 11025)\n",
      "[Open3D DEBUG] ICP Iteration #3: Fitness 0.0547, RMSE 0.0010\n",
      "[Open3D DEBUG] Residual : 5.20e-07 (# of elements : 11488)\n",
      "[Open3D DEBUG] ICP Iteration #4: Fitness 0.0563, RMSE 0.0010\n",
      "[Open3D DEBUG] Residual : 5.06e-07 (# of elements : 11828)\n",
      "[Open3D DEBUG] ICP Iteration #5: Fitness 0.0579, RMSE 0.0010\n",
      "[Open3D DEBUG] Residual : 4.98e-07 (# of elements : 12162)\n",
      "[Open3D DEBUG] ICP Iteration #6: Fitness 0.0593, RMSE 0.0010\n",
      "[Open3D DEBUG] Residual : 4.90e-07 (# of elements : 12446)\n",
      "[Open3D DEBUG] ICP Iteration #7: Fitness 0.0602, RMSE 0.0010\n",
      "[Open3D DEBUG] Residual : 4.84e-07 (# of elements : 12649)\n",
      "[Open3D DEBUG] ICP Iteration #8: Fitness 0.0608, RMSE 0.0010\n",
      "[Open3D DEBUG] Residual : 4.79e-07 (# of elements : 12766)\n",
      "[Open3D DEBUG] ICP Iteration #9: Fitness 0.0616, RMSE 0.0010\n",
      "[Open3D DEBUG] Residual : 4.80e-07 (# of elements : 12935)\n",
      "[Open3D DEBUG] ICP Iteration #10: Fitness 0.0623, RMSE 0.0010\n",
      "[Open3D DEBUG] Residual : 4.81e-07 (# of elements : 13086)\n",
      "[Open3D DEBUG] ICP Iteration #11: Fitness 0.0628, RMSE 0.0010\n",
      "[Open3D DEBUG] Residual : 4.83e-07 (# of elements : 13194)\n",
      "[Open3D DEBUG] ICP Iteration #12: Fitness 0.0632, RMSE 0.0010\n",
      "[Open3D DEBUG] Residual : 4.82e-07 (# of elements : 13284)\n",
      "[Open3D DEBUG] ICP Iteration #13: Fitness 0.0636, RMSE 0.0010\n",
      "[Open3D DEBUG] Residual : 4.83e-07 (# of elements : 13355)\n",
      "[Open3D DEBUG] ICP Iteration #14: Fitness 0.0640, RMSE 0.0010\n",
      "[Open3D DEBUG] Residual : 4.81e-07 (# of elements : 13436)\n",
      "[Open3D DEBUG] ICP Iteration #15: Fitness 0.0644, RMSE 0.0010\n",
      "[Open3D DEBUG] Residual : 4.80e-07 (# of elements : 13535)\n",
      "[Open3D DEBUG] ICP Iteration #16: Fitness 0.0647, RMSE 0.0010\n",
      "[Open3D DEBUG] Residual : 4.76e-07 (# of elements : 13592)\n",
      "[Open3D DEBUG] ICP Iteration #17: Fitness 0.0653, RMSE 0.0010\n",
      "[Open3D DEBUG] Residual : 4.77e-07 (# of elements : 13714)\n",
      "[Open3D DEBUG] ICP Iteration #18: Fitness 0.0655, RMSE 0.0010\n",
      "[Open3D DEBUG] Residual : 4.74e-07 (# of elements : 13756)\n",
      "[Open3D DEBUG] ICP Iteration #19: Fitness 0.0660, RMSE 0.0010\n",
      "[Open3D DEBUG] Residual : 4.75e-07 (# of elements : 13870)\n",
      "[Open3D DEBUG] ICP Iteration #20: Fitness 0.0667, RMSE 0.0010\n",
      "[Open3D DEBUG] Residual : 4.75e-07 (# of elements : 14004)\n",
      "[Open3D DEBUG] ICP Iteration #21: Fitness 0.0674, RMSE 0.0010\n",
      "[Open3D DEBUG] Residual : 4.77e-07 (# of elements : 14163)\n",
      "[Open3D DEBUG] ICP Iteration #22: Fitness 0.0681, RMSE 0.0010\n",
      "[Open3D DEBUG] Residual : 4.78e-07 (# of elements : 14299)\n",
      "[Open3D DEBUG] ICP Iteration #23: Fitness 0.0686, RMSE 0.0010\n",
      "[Open3D DEBUG] Residual : 4.77e-07 (# of elements : 14403)\n",
      "[Open3D DEBUG] ICP Iteration #24: Fitness 0.0692, RMSE 0.0010\n",
      "[Open3D DEBUG] Residual : 4.76e-07 (# of elements : 14528)\n",
      "[Open3D DEBUG] ICP Iteration #25: Fitness 0.0696, RMSE 0.0010\n",
      "[Open3D DEBUG] Residual : 4.76e-07 (# of elements : 14627)\n",
      "[Open3D DEBUG] ICP Iteration #26: Fitness 0.0705, RMSE 0.0010\n",
      "[Open3D DEBUG] Residual : 4.81e-07 (# of elements : 14808)\n",
      "[Open3D DEBUG] ICP Iteration #27: Fitness 0.0711, RMSE 0.0010\n",
      "[Open3D DEBUG] Residual : 4.82e-07 (# of elements : 14943)\n",
      "[Open3D DEBUG] ICP Iteration #28: Fitness 0.0714, RMSE 0.0010\n",
      "[Open3D DEBUG] Residual : 4.77e-07 (# of elements : 14990)\n",
      "[Open3D DEBUG] ICP Iteration #29: Fitness 0.0718, RMSE 0.0010\n",
      "[Open3D DEBUG] Residual : 4.76e-07 (# of elements : 15079)\n",
      "Build o3d.pipelines.registration.PoseGraph\n"
     ]
    }
   ],
   "source": [
    "print(\"Full registration ...\")\n",
    "max_correspondence_distance_coarse = voxel_size * 15\n",
    "max_correspondence_distance_fine = voxel_size * 1.5\n",
    "with o3d.utility.VerbosityContextManager(\n",
    "        o3d.utility.VerbosityLevel.Debug) as cm:\n",
    "    pose_graph = full_registration(pcds_orig_2,\n",
    "                                   max_correspondence_distance_coarse,\n",
    "                                   max_correspondence_distance_fine)"
   ]
  },
  {
   "cell_type": "code",
   "execution_count": 35,
   "id": "f4391f22",
   "metadata": {},
   "outputs": [
    {
     "name": "stdout",
     "output_type": "stream",
     "text": [
      "Optimizing PoseGraph ...\n",
      "[Open3D DEBUG] Validating PoseGraph - finished.\n",
      "[Open3D DEBUG] [GlobalOptimizationLM] Optimizing PoseGraph having 2 nodes and 1 edges.\n",
      "[Open3D DEBUG] Line process weight : 0.034038\n",
      "[Open3D DEBUG] [Initial     ] residual : 1.159935e-30, lambda : 1.512800e-01\n",
      "[Open3D DEBUG] Maximum coefficient of right term < 1.000000e-06\n",
      "[Open3D DEBUG] [GlobalOptimizationLM] Optimizing PoseGraph having 2 nodes and 1 edges.\n",
      "[Open3D DEBUG] Line process weight : 0.034038\n",
      "[Open3D DEBUG] [Initial     ] residual : 1.159935e-30, lambda : 1.512800e-01\n",
      "[Open3D DEBUG] Maximum coefficient of right term < 1.000000e-06\n",
      "[Open3D DEBUG] CompensateReferencePoseGraphNode : reference : 0\n"
     ]
    }
   ],
   "source": [
    "print(\"Optimizing PoseGraph ...\")\n",
    "option = o3d.pipelines.registration.GlobalOptimizationOption(\n",
    "    max_correspondence_distance=max_correspondence_distance_fine,\n",
    "    edge_prune_threshold=0.25,\n",
    "    reference_node=0)\n",
    "with o3d.utility.VerbosityContextManager(\n",
    "        o3d.utility.VerbosityLevel.Debug) as cm:\n",
    "    o3d.pipelines.registration.global_optimization(\n",
    "        pose_graph,\n",
    "        o3d.pipelines.registration.GlobalOptimizationLevenbergMarquardt(),\n",
    "        o3d.pipelines.registration.GlobalOptimizationConvergenceCriteria(),\n",
    "        option)"
   ]
  },
  {
   "cell_type": "code",
   "execution_count": 36,
   "id": "fd6f4124",
   "metadata": {},
   "outputs": [
    {
     "name": "stdout",
     "output_type": "stream",
     "text": [
      "Transform points and display\n",
      "[[1. 0. 0. 0.]\n",
      " [0. 1. 0. 0.]\n",
      " [0. 0. 1. 0.]\n",
      " [0. 0. 0. 1.]]\n",
      "[[ 9.97889224e-01  3.98527815e-02  5.12723351e-02  3.80827335e-02]\n",
      " [-3.84167101e-02  9.98849683e-01 -2.86961200e-02 -7.25245784e-04]\n",
      " [-5.23569759e-02  2.66658345e-02  9.98272348e-01 -2.65986515e-02]\n",
      " [ 0.00000000e+00  0.00000000e+00  0.00000000e+00  1.00000000e+00]]\n"
     ]
    }
   ],
   "source": [
    "print(\"Transform points and display\")\n",
    "for point_id in range(len(pcds_orig_2)):\n",
    "    print(pose_graph.nodes[point_id].pose)\n",
    "    pcds_orig_2[point_id].transform(pose_graph.nodes[point_id].pose)\n",
    "o3d.visualization.draw_geometries(pcds_orig_2)"
   ]
  },
  {
   "cell_type": "markdown",
   "id": "97e40162",
   "metadata": {},
   "source": [
    "-------------------"
   ]
  },
  {
   "cell_type": "code",
   "execution_count": 27,
   "id": "52d714bf",
   "metadata": {},
   "outputs": [
    {
     "name": "stdout",
     "output_type": "stream",
     "text": [
      "Full registration ...\n",
      "Apply point-to-plane ICP\n",
      "[Open3D DEBUG] ICP Iteration #0: Fitness 0.1427, RMSE 0.0089\n",
      "[Open3D DEBUG] Residual : 7.22e-05 (# of elements : 24531)\n",
      "[Open3D DEBUG] ICP Iteration #1: Fitness 0.2045, RMSE 0.0089\n",
      "[Open3D DEBUG] Residual : 7.50e-05 (# of elements : 35151)\n",
      "[Open3D DEBUG] ICP Iteration #2: Fitness 0.2405, RMSE 0.0081\n",
      "[Open3D DEBUG] Residual : 6.13e-05 (# of elements : 41335)\n",
      "[Open3D DEBUG] ICP Iteration #3: Fitness 0.2593, RMSE 0.0081\n",
      "[Open3D DEBUG] Residual : 6.13e-05 (# of elements : 44572)\n",
      "[Open3D DEBUG] ICP Iteration #4: Fitness 0.2722, RMSE 0.0083\n",
      "[Open3D DEBUG] Residual : 6.37e-05 (# of elements : 46787)\n",
      "[Open3D DEBUG] ICP Iteration #5: Fitness 0.2796, RMSE 0.0084\n",
      "[Open3D DEBUG] Residual : 6.43e-05 (# of elements : 48062)\n",
      "[Open3D DEBUG] ICP Iteration #6: Fitness 0.2830, RMSE 0.0082\n",
      "[Open3D DEBUG] Residual : 6.10e-05 (# of elements : 48645)\n",
      "[Open3D DEBUG] ICP Iteration #7: Fitness 0.2844, RMSE 0.0079\n",
      "[Open3D DEBUG] Residual : 5.58e-05 (# of elements : 48889)\n",
      "[Open3D DEBUG] ICP Iteration #8: Fitness 0.2854, RMSE 0.0078\n",
      "[Open3D DEBUG] Residual : 5.33e-05 (# of elements : 49066)\n",
      "[Open3D DEBUG] ICP Iteration #9: Fitness 0.2859, RMSE 0.0077\n",
      "[Open3D DEBUG] Residual : 5.22e-05 (# of elements : 49146)\n",
      "[Open3D DEBUG] ICP Iteration #10: Fitness 0.2866, RMSE 0.0077\n",
      "[Open3D DEBUG] Residual : 5.17e-05 (# of elements : 49273)\n",
      "[Open3D DEBUG] ICP Iteration #11: Fitness 0.2877, RMSE 0.0077\n",
      "[Open3D DEBUG] Residual : 5.14e-05 (# of elements : 49459)\n",
      "[Open3D DEBUG] ICP Iteration #12: Fitness 0.2894, RMSE 0.0077\n",
      "[Open3D DEBUG] Residual : 5.15e-05 (# of elements : 49755)\n",
      "[Open3D DEBUG] ICP Iteration #13: Fitness 0.2913, RMSE 0.0077\n",
      "[Open3D DEBUG] Residual : 5.15e-05 (# of elements : 50074)\n",
      "[Open3D DEBUG] ICP Iteration #14: Fitness 0.2938, RMSE 0.0078\n",
      "[Open3D DEBUG] Residual : 5.19e-05 (# of elements : 50502)\n",
      "[Open3D DEBUG] ICP Iteration #15: Fitness 0.2967, RMSE 0.0078\n",
      "[Open3D DEBUG] Residual : 5.22e-05 (# of elements : 50994)\n",
      "[Open3D DEBUG] ICP Iteration #16: Fitness 0.2991, RMSE 0.0078\n",
      "[Open3D DEBUG] Residual : 5.24e-05 (# of elements : 51422)\n",
      "[Open3D DEBUG] ICP Iteration #17: Fitness 0.3019, RMSE 0.0078\n",
      "[Open3D DEBUG] Residual : 5.24e-05 (# of elements : 51889)\n",
      "[Open3D DEBUG] ICP Iteration #18: Fitness 0.3041, RMSE 0.0079\n",
      "[Open3D DEBUG] Residual : 5.22e-05 (# of elements : 52273)\n",
      "[Open3D DEBUG] ICP Iteration #19: Fitness 0.3068, RMSE 0.0079\n",
      "[Open3D DEBUG] Residual : 5.24e-05 (# of elements : 52743)\n",
      "[Open3D DEBUG] ICP Iteration #20: Fitness 0.3089, RMSE 0.0079\n",
      "[Open3D DEBUG] Residual : 5.22e-05 (# of elements : 53094)\n",
      "[Open3D DEBUG] ICP Iteration #21: Fitness 0.3106, RMSE 0.0079\n",
      "[Open3D DEBUG] Residual : 5.20e-05 (# of elements : 53392)\n",
      "[Open3D DEBUG] ICP Iteration #22: Fitness 0.3125, RMSE 0.0079\n",
      "[Open3D DEBUG] Residual : 5.17e-05 (# of elements : 53718)\n",
      "[Open3D DEBUG] ICP Iteration #23: Fitness 0.3145, RMSE 0.0079\n",
      "[Open3D DEBUG] Residual : 5.17e-05 (# of elements : 54068)\n",
      "[Open3D DEBUG] ICP Iteration #24: Fitness 0.3163, RMSE 0.0079\n",
      "[Open3D DEBUG] Residual : 5.18e-05 (# of elements : 54367)\n",
      "[Open3D DEBUG] ICP Iteration #25: Fitness 0.3184, RMSE 0.0079\n",
      "[Open3D DEBUG] Residual : 5.20e-05 (# of elements : 54738)\n",
      "[Open3D DEBUG] ICP Iteration #26: Fitness 0.3199, RMSE 0.0079\n",
      "[Open3D DEBUG] Residual : 5.19e-05 (# of elements : 54985)\n",
      "[Open3D DEBUG] ICP Iteration #27: Fitness 0.3213, RMSE 0.0079\n",
      "[Open3D DEBUG] Residual : 5.18e-05 (# of elements : 55226)\n",
      "[Open3D DEBUG] ICP Iteration #28: Fitness 0.3226, RMSE 0.0079\n",
      "[Open3D DEBUG] Residual : 5.19e-05 (# of elements : 55454)\n",
      "[Open3D DEBUG] ICP Iteration #29: Fitness 0.3243, RMSE 0.0079\n",
      "[Open3D DEBUG] Residual : 5.23e-05 (# of elements : 55744)\n",
      "[Open3D DEBUG] ICP Iteration #0: Fitness 0.0322, RMSE 0.0010\n",
      "[Open3D DEBUG] Residual : 6.68e-07 (# of elements : 5530)\n",
      "[Open3D DEBUG] ICP Iteration #1: Fitness 0.0335, RMSE 0.0010\n",
      "[Open3D DEBUG] Residual : 6.63e-07 (# of elements : 5755)\n",
      "[Open3D DEBUG] ICP Iteration #2: Fitness 0.0339, RMSE 0.0010\n",
      "[Open3D DEBUG] Residual : 6.27e-07 (# of elements : 5831)\n",
      "[Open3D DEBUG] ICP Iteration #3: Fitness 0.0347, RMSE 0.0010\n",
      "[Open3D DEBUG] Residual : 6.13e-07 (# of elements : 5964)\n",
      "[Open3D DEBUG] ICP Iteration #4: Fitness 0.0360, RMSE 0.0010\n",
      "[Open3D DEBUG] Residual : 6.30e-07 (# of elements : 6187)\n",
      "[Open3D DEBUG] ICP Iteration #5: Fitness 0.0381, RMSE 0.0010\n",
      "[Open3D DEBUG] Residual : 6.55e-07 (# of elements : 6542)\n",
      "[Open3D DEBUG] ICP Iteration #6: Fitness 0.0393, RMSE 0.0010\n",
      "[Open3D DEBUG] Residual : 6.30e-07 (# of elements : 6754)\n",
      "[Open3D DEBUG] ICP Iteration #7: Fitness 0.0400, RMSE 0.0009\n",
      "[Open3D DEBUG] Residual : 6.03e-07 (# of elements : 6883)\n",
      "[Open3D DEBUG] ICP Iteration #8: Fitness 0.0402, RMSE 0.0009\n",
      "[Open3D DEBUG] Residual : 5.83e-07 (# of elements : 6905)\n",
      "[Open3D DEBUG] ICP Iteration #9: Fitness 0.0402, RMSE 0.0009\n",
      "[Open3D DEBUG] Residual : 5.71e-07 (# of elements : 6909)\n",
      "[Open3D DEBUG] ICP Iteration #10: Fitness 0.0401, RMSE 0.0009\n",
      "[Open3D DEBUG] Residual : 5.62e-07 (# of elements : 6888)\n",
      "[Open3D DEBUG] ICP Iteration #11: Fitness 0.0399, RMSE 0.0009\n",
      "[Open3D DEBUG] Residual : 5.52e-07 (# of elements : 6862)\n",
      "[Open3D DEBUG] ICP Iteration #12: Fitness 0.0397, RMSE 0.0009\n",
      "[Open3D DEBUG] Residual : 5.45e-07 (# of elements : 6825)\n",
      "[Open3D DEBUG] ICP Iteration #13: Fitness 0.0397, RMSE 0.0009\n",
      "[Open3D DEBUG] Residual : 5.46e-07 (# of elements : 6822)\n",
      "[Open3D DEBUG] ICP Iteration #14: Fitness 0.0397, RMSE 0.0009\n",
      "[Open3D DEBUG] Residual : 5.44e-07 (# of elements : 6827)\n",
      "[Open3D DEBUG] ICP Iteration #15: Fitness 0.0398, RMSE 0.0009\n",
      "[Open3D DEBUG] Residual : 5.44e-07 (# of elements : 6842)\n",
      "[Open3D DEBUG] ICP Iteration #16: Fitness 0.0398, RMSE 0.0009\n",
      "[Open3D DEBUG] Residual : 5.41e-07 (# of elements : 6834)\n",
      "[Open3D DEBUG] ICP Iteration #17: Fitness 0.0397, RMSE 0.0009\n",
      "[Open3D DEBUG] Residual : 5.41e-07 (# of elements : 6823)\n",
      "[Open3D DEBUG] ICP Iteration #18: Fitness 0.0396, RMSE 0.0009\n",
      "[Open3D DEBUG] Residual : 5.40e-07 (# of elements : 6806)\n",
      "[Open3D DEBUG] ICP Iteration #19: Fitness 0.0395, RMSE 0.0009\n",
      "[Open3D DEBUG] Residual : 5.37e-07 (# of elements : 6798)\n",
      "[Open3D DEBUG] ICP Iteration #20: Fitness 0.0394, RMSE 0.0009\n",
      "[Open3D DEBUG] Residual : 5.32e-07 (# of elements : 6779)\n",
      "[Open3D DEBUG] ICP Iteration #21: Fitness 0.0395, RMSE 0.0009\n",
      "[Open3D DEBUG] Residual : 5.33e-07 (# of elements : 6782)\n",
      "[Open3D DEBUG] ICP Iteration #22: Fitness 0.0395, RMSE 0.0009\n",
      "[Open3D DEBUG] Residual : 5.34e-07 (# of elements : 6783)\n",
      "[Open3D DEBUG] ICP Iteration #23: Fitness 0.0395, RMSE 0.0009\n",
      "[Open3D DEBUG] Residual : 5.34e-07 (# of elements : 6785)\n",
      "[Open3D DEBUG] ICP Iteration #24: Fitness 0.0394, RMSE 0.0009\n",
      "[Open3D DEBUG] Residual : 5.34e-07 (# of elements : 6775)\n",
      "[Open3D DEBUG] ICP Iteration #25: Fitness 0.0395, RMSE 0.0009\n",
      "[Open3D DEBUG] Residual : 5.38e-07 (# of elements : 6795)\n",
      "[Open3D DEBUG] ICP Iteration #26: Fitness 0.0396, RMSE 0.0009\n",
      "[Open3D DEBUG] Residual : 5.40e-07 (# of elements : 6806)\n",
      "Build o3d.pipelines.registration.PoseGraph\n"
     ]
    }
   ],
   "source": [
    "print(\"Full registration ...\")\n",
    "max_correspondence_distance_coarse = voxel_size * 15\n",
    "max_correspondence_distance_fine = voxel_size * 1.5\n",
    "with o3d.utility.VerbosityContextManager(\n",
    "        o3d.utility.VerbosityLevel.Debug) as cm:\n",
    "    pose_graph = full_registration(pcds_gen_2,\n",
    "                                   max_correspondence_distance_coarse,\n",
    "                                   max_correspondence_distance_fine)"
   ]
  },
  {
   "cell_type": "code",
   "execution_count": 32,
   "id": "25b0eb55",
   "metadata": {},
   "outputs": [
    {
     "name": "stdout",
     "output_type": "stream",
     "text": [
      "Optimizing PoseGraph ...\n",
      "[Open3D DEBUG] Validating PoseGraph - finished.\n",
      "[Open3D DEBUG] [GlobalOptimizationLM] Optimizing PoseGraph having 2 nodes and 1 edges.\n",
      "[Open3D DEBUG] Line process weight : 0.034038\n",
      "[Open3D DEBUG] [Initial     ] residual : 9.170224e-31, lambda : 1.512800e-01\n",
      "[Open3D DEBUG] Maximum coefficient of right term < 1.000000e-06\n",
      "[Open3D DEBUG] [GlobalOptimizationLM] Optimizing PoseGraph having 2 nodes and 1 edges.\n",
      "[Open3D DEBUG] Line process weight : 0.034038\n",
      "[Open3D DEBUG] [Initial     ] residual : 9.170224e-31, lambda : 1.512800e-01\n",
      "[Open3D DEBUG] Maximum coefficient of right term < 1.000000e-06\n",
      "[Open3D DEBUG] CompensateReferencePoseGraphNode : reference : 0\n"
     ]
    }
   ],
   "source": [
    "print(\"Optimizing PoseGraph ...\")\n",
    "option = o3d.pipelines.registration.GlobalOptimizationOption(\n",
    "    max_correspondence_distance=max_correspondence_distance_fine,\n",
    "    edge_prune_threshold=0.25,\n",
    "    reference_node=0)\n",
    "with o3d.utility.VerbosityContextManager(\n",
    "        o3d.utility.VerbosityLevel.Debug) as cm:\n",
    "    o3d.pipelines.registration.global_optimization(\n",
    "        pose_graph,\n",
    "        o3d.pipelines.registration.GlobalOptimizationLevenbergMarquardt(),\n",
    "        o3d.pipelines.registration.GlobalOptimizationConvergenceCriteria(),\n",
    "        option)"
   ]
  },
  {
   "cell_type": "code",
   "execution_count": 30,
   "id": "dfaf0ae9",
   "metadata": {},
   "outputs": [
    {
     "name": "stdout",
     "output_type": "stream",
     "text": [
      "Transform points and display\n",
      "[[1. 0. 0. 0.]\n",
      " [0. 1. 0. 0.]\n",
      " [0. 0. 1. 0.]\n",
      " [0. 0. 0. 1.]]\n",
      "[[ 0.98960737 -0.12108406 -0.07756221  0.00864667]\n",
      " [ 0.12722623  0.98865391  0.07985574  0.0133932 ]\n",
      " [ 0.06701293 -0.08889378  0.99378426 -0.06073569]\n",
      " [ 0.          0.          0.          1.        ]]\n",
      "[Open3D WARNING] GLFW Error: WGL: Failed to make context current: The requested transformation operation is not supported. \n",
      "[Open3D WARNING] GLFW Error: WGL: Failed to make context current: The handle is invalid. \n"
     ]
    }
   ],
   "source": [
    "print(\"Transform points and display\")\n",
    "for point_id in range(len(pcds_gen_2)):\n",
    "    print(pose_graph.nodes[point_id].pose)\n",
    "    pcds_gen_2[point_id].transform(pose_graph.nodes[point_id].pose)\n",
    "o3d.visualization.draw_geometries(pcds_gen_2)"
   ]
  },
  {
   "cell_type": "code",
   "execution_count": 37,
   "id": "8594efe8",
   "metadata": {},
   "outputs": [],
   "source": [
    "o3d.visualization.draw_geometries(pcds_gen_2)"
   ]
  },
  {
   "cell_type": "code",
   "execution_count": null,
   "id": "cd1589a5",
   "metadata": {},
   "outputs": [],
   "source": [
    "\n",
    "o3d.visualization.draw_geometries(pcds_orig_2)"
   ]
  },
  {
   "cell_type": "code",
   "execution_count": null,
   "id": "6537f46b",
   "metadata": {},
   "outputs": [],
   "source": []
  },
  {
   "cell_type": "code",
   "execution_count": null,
   "id": "be39a2b8",
   "metadata": {},
   "outputs": [],
   "source": []
  },
  {
   "cell_type": "code",
   "execution_count": null,
   "id": "c00a4a35",
   "metadata": {},
   "outputs": [],
   "source": []
  },
  {
   "cell_type": "code",
   "execution_count": 9,
   "id": "859fe67e",
   "metadata": {},
   "outputs": [
    {
     "data": {
      "text/plain": [
       "0.0013758556645133396"
      ]
     },
     "execution_count": 9,
     "metadata": {},
     "output_type": "execute_result"
    }
   ],
   "source": [
    "radius"
   ]
  },
  {
   "cell_type": "code",
   "execution_count": 3,
   "id": "7aa17fbc",
   "metadata": {},
   "outputs": [],
   "source": [
    "result_root = 'C:/Users/User/Documents/Data_Science/ar_stable_diffusion/server/user_data'\n"
   ]
  },
  {
   "cell_type": "code",
   "execution_count": 4,
   "id": "f6e2f352",
   "metadata": {},
   "outputs": [],
   "source": [
    "pcd_path = result_root + \"/ground_point_clouds/0_arcore_ground_pcd.pcd\"\n",
    "pcd = o3d.io.read_point_cloud( pcd_path )"
   ]
  },
  {
   "cell_type": "code",
   "execution_count": 5,
   "id": "6dc94af4",
   "metadata": {},
   "outputs": [],
   "source": [
    "distances = pcd.compute_nearest_neighbor_distance()\n",
    "avg_dist = np.mean(distances)\n",
    "\n",
    "pcd_small = pcd.voxel_down_sample(voxel_size=0.0007)"
   ]
  },
  {
   "cell_type": "code",
   "execution_count": 6,
   "id": "a8fcbc49",
   "metadata": {},
   "outputs": [
    {
     "name": "stdout",
     "output_type": "stream",
     "text": [
      "[Open3D WARNING] GLFW Error: WGL: Failed to make context current: The requested transformation operation is not supported. \n"
     ]
    }
   ],
   "source": [
    "pcd_small.estimate_normals(\n",
    "    search_param=o3d.geometry.KDTreeSearchParamHybrid(radius=0.1, max_nn=30))\n",
    "o3d.visualization.draw_geometries([pcd_small],point_show_normal=True)"
   ]
  },
  {
   "cell_type": "code",
   "execution_count": 8,
   "id": "4222990e",
   "metadata": {},
   "outputs": [],
   "source": [
    "radius = 5 * avg_dist\n",
    "\n",
    "bpa_mesh = o3d.geometry.TriangleMesh.create_from_point_cloud_ball_pivoting(\n",
    "    pcd_small, o3d.utility.DoubleVector([radius, radius * 2]))\n",
    "\n",
    "bpa_mesh.remove_degenerate_triangles()\n",
    "bpa_mesh.remove_duplicated_triangles()\n",
    "bpa_mesh.remove_duplicated_vertices()\n",
    "bpa_mesh.remove_non_manifold_edges()\n",
    "\n",
    "\n",
    "\n",
    "o3d.visualization.draw_geometries([bpa_mesh], mesh_show_back_face=True)"
   ]
  },
  {
   "cell_type": "code",
   "execution_count": 10,
   "id": "ca20ff27",
   "metadata": {},
   "outputs": [
    {
     "ename": "AttributeError",
     "evalue": "module 'open3d.visualization' has no attribute 'draw'",
     "output_type": "error",
     "traceback": [
      "\u001b[1;31m---------------------------------------------------------------------------\u001b[0m",
      "\u001b[1;31mAttributeError\u001b[0m                            Traceback (most recent call last)",
      "Cell \u001b[1;32mIn[10], line 11\u001b[0m\n\u001b[0;32m      7\u001b[0m bpa_mesh\u001b[38;5;241m.\u001b[39mremove_duplicated_vertices()\n\u001b[0;32m      8\u001b[0m bpa_mesh\u001b[38;5;241m.\u001b[39mremove_non_manifold_edges()\n\u001b[1;32m---> 11\u001b[0m \u001b[43mo3d\u001b[49m\u001b[38;5;241;43m.\u001b[39;49m\u001b[43mvisualization\u001b[49m\u001b[38;5;241;43m.\u001b[39;49m\u001b[43mdraw\u001b[49m([rec_mesh])\n\u001b[0;32m     13\u001b[0m o3d\u001b[38;5;241m.\u001b[39mvisualization\u001b[38;5;241m.\u001b[39mdraw_geometries([bpa_mesh], mesh_show_back_face\u001b[38;5;241m=\u001b[39m\u001b[38;5;28;01mTrue\u001b[39;00m)\n",
      "\u001b[1;31mAttributeError\u001b[0m: module 'open3d.visualization' has no attribute 'draw'"
     ]
    }
   ],
   "source": [
    "\n",
    "\n",
    "\n",
    "    radii = [0.001, 0.005, 0.01, 0.02]\n",
    "    bpa_mesh = o3d.geometry.TriangleMesh.create_from_point_cloud_ball_pivoting(\n",
    "        pcd, o3d.utility.DoubleVector(radii))\n",
    "\n",
    "    bpa_mesh.remove_degenerate_triangles()\n",
    "    bpa_mesh.remove_duplicated_triangles()\n",
    "    bpa_mesh.remove_duplicated_vertices()\n",
    "    bpa_mesh.remove_non_manifold_edges()\n",
    "    \n",
    "    o3d.visualization.draw_geometries([bpa_mesh], mesh_show_back_face=True)"
   ]
  },
  {
   "cell_type": "code",
   "execution_count": 13,
   "id": "1630721b",
   "metadata": {},
   "outputs": [
    {
     "name": "stdout",
     "output_type": "stream",
     "text": [
      "[Open3D WARNING] GLFW Error: WGL: Failed to make context current: The requested transformation operation is not supported. \n"
     ]
    }
   ],
   "source": [
    "\n",
    "    \n",
    "    o3d.visualization.draw_geometries([bpa_mesh], mesh_show_back_face=True)"
   ]
  },
  {
   "cell_type": "code",
   "execution_count": 15,
   "id": "c2b643db",
   "metadata": {},
   "outputs": [
    {
     "ename": "ModuleNotFoundError",
     "evalue": "No module named 'jsonify'",
     "output_type": "error",
     "traceback": [
      "\u001b[1;31m---------------------------------------------------------------------------\u001b[0m",
      "\u001b[1;31mModuleNotFoundError\u001b[0m                       Traceback (most recent call last)",
      "Cell \u001b[1;32mIn[15], line 1\u001b[0m\n\u001b[1;32m----> 1\u001b[0m \u001b[38;5;28;01mimport\u001b[39;00m \u001b[38;5;21;01mjsonify\u001b[39;00m\n",
      "\u001b[1;31mModuleNotFoundError\u001b[0m: No module named 'jsonify'"
     ]
    }
   ],
   "source": [
    "import jsonify"
   ]
  },
  {
   "cell_type": "code",
   "execution_count": 2,
   "id": "8af15af0",
   "metadata": {},
   "outputs": [],
   "source": [
    "import open3d as o3d\n",
    "mesh = o3d.io.read_triangle_mesh(\"server/user_data/processed_user_data/157115077367582_mesh.obj\")"
   ]
  },
  {
   "cell_type": "code",
   "execution_count": 3,
   "id": "68eaeaab",
   "metadata": {},
   "outputs": [],
   "source": [
    "import io"
   ]
  },
  {
   "cell_type": "code",
   "execution_count": 4,
   "id": "897cddce",
   "metadata": {},
   "outputs": [
    {
     "ename": "TypeError",
     "evalue": "argument should be integer or None, not 'open3d.cpu.pybind.geometry.TriangleMesh'",
     "output_type": "error",
     "traceback": [
      "\u001b[1;31m---------------------------------------------------------------------------\u001b[0m",
      "\u001b[1;31mTypeError\u001b[0m                                 Traceback (most recent call last)",
      "Cell \u001b[1;32mIn[4], line 3\u001b[0m\n\u001b[0;32m      1\u001b[0m buf \u001b[38;5;241m=\u001b[39m io\u001b[38;5;241m.\u001b[39mBytesIO()\n\u001b[1;32m----> 3\u001b[0m \u001b[43mbuf\u001b[49m\u001b[38;5;241;43m.\u001b[39;49m\u001b[43mread\u001b[49m\u001b[43m(\u001b[49m\u001b[43mmesh\u001b[49m\u001b[43m)\u001b[49m\n",
      "\u001b[1;31mTypeError\u001b[0m: argument should be integer or None, not 'open3d.cpu.pybind.geometry.TriangleMesh'"
     ]
    }
   ],
   "source": [
    "        buf = io.BytesIO()\n",
    "\n",
    "        buf.read(mesh)"
   ]
  },
  {
   "cell_type": "code",
   "execution_count": 9,
   "id": "e6c3e529",
   "metadata": {},
   "outputs": [],
   "source": [
    "mesh = o3d.io.read_triangle_mesh('C:\\\\Users\\\\User\\\\Documents\\\\Data_Science\\\\ar_stable_diffusion\\\\server\\\\user_data\\\\processed_user_data\\\\36292670820492_mesh.obj')"
   ]
  },
  {
   "cell_type": "code",
   "execution_count": 10,
   "id": "f045eb05",
   "metadata": {},
   "outputs": [],
   "source": [
    "o3d.visualization.draw_geometries([mesh])"
   ]
  },
  {
   "cell_type": "code",
   "execution_count": 5,
   "id": "d52ecba1",
   "metadata": {},
   "outputs": [
    {
     "name": "stdout",
     "output_type": "stream",
     "text": [
      "[Open3D WARNING] Write geometry::TriangleMesh failed: unknown file extension.\n"
     ]
    },
    {
     "data": {
      "text/plain": [
       "False"
      ]
     },
     "execution_count": 5,
     "metadata": {},
     "output_type": "execute_result"
    }
   ],
   "source": [
    "o3d.io.write_triangle_mesh(\"server/user_data/processed_user_data/187389569134163_mesh.fbx\",mesh,  write_triangle_uvs=True)"
   ]
  },
  {
   "cell_type": "code",
   "execution_count": 14,
   "id": "73d530ef",
   "metadata": {},
   "outputs": [
    {
     "name": "stdout",
     "output_type": "stream",
     "text": [
      "std::vector<Eigen::Vector3d> with 66005 elements.\n",
      "Use numpy.asarray() to access data.\n"
     ]
    }
   ],
   "source": [
    "print(mesh.vertex_colors)"
   ]
  },
  {
   "cell_type": "code",
   "execution_count": 15,
   "id": "097f9675",
   "metadata": {},
   "outputs": [],
   "source": [
    "path = 'C:\\\\Users\\\\User\\\\Documents\\\\Data_Science\\\\ar_stable_diffusion\\\\server\\\\user_data\\\\processed_user_data\\\\36707154868244_mesh.obj'\n",
    "\n",
    "mesh = o3d.io.read_triangle_mesh(path)\n",
    "o3d.visualization.draw_geometries([mesh])"
   ]
  },
  {
   "cell_type": "code",
   "execution_count": 23,
   "id": "77d3f139",
   "metadata": {},
   "outputs": [],
   "source": [
    "ms = pymeshlab.MeshSet()\n",
    "ms.load_new_mesh( path )\n",
    "ms.compute_color_transfer_vertex_to_face()\n",
    "ms.compute_texcoord_parametrization_triangle_trivial_per_wedge(textdim=4000)\n",
    "ms.compute_texmap_from_color(textname=\"new.mtl\", textw=4000, texth=4000)"
   ]
  },
  {
   "cell_type": "code",
   "execution_count": 24,
   "id": "608d7a47",
   "metadata": {},
   "outputs": [],
   "source": [
    " \n",
    "    ms.save_current_mesh(\"server/user_data/187389569134163_mesh.obj\")"
   ]
  },
  {
   "cell_type": "code",
   "execution_count": 7,
   "id": "eddc6db6",
   "metadata": {},
   "outputs": [
    {
     "name": "stdout",
     "output_type": "stream",
     "text": [
      "[Open3D WARNING] Read PCD failed: unable to open file: 187389569134163_arcore_ground_pcd.pcd\n",
      "[Open3D WARNING] [KDTreeFlann::SetRawData] Failed due to no data.\n"
     ]
    },
    {
     "ename": "RuntimeError",
     "evalue": "[Open3D ERROR] ReconstructBallPivoting requires normals",
     "output_type": "error",
     "traceback": [
      "\u001b[1;31m---------------------------------------------------------------------------\u001b[0m",
      "\u001b[1;31mRuntimeError\u001b[0m                              Traceback (most recent call last)",
      "Cell \u001b[1;32mIn[7], line 7\u001b[0m\n\u001b[0;32m      4\u001b[0m o3d\u001b[38;5;241m.\u001b[39mvisualization\u001b[38;5;241m.\u001b[39mdraw_geometries([small_pcd])\n\u001b[0;32m      6\u001b[0m radii \u001b[38;5;241m=\u001b[39m [\u001b[38;5;241m0.001\u001b[39m, \u001b[38;5;241m0.005\u001b[39m, \u001b[38;5;241m0.01\u001b[39m]\n\u001b[1;32m----> 7\u001b[0m bpa_mesh \u001b[38;5;241m=\u001b[39m \u001b[43mo3d\u001b[49m\u001b[38;5;241;43m.\u001b[39;49m\u001b[43mgeometry\u001b[49m\u001b[38;5;241;43m.\u001b[39;49m\u001b[43mTriangleMesh\u001b[49m\u001b[38;5;241;43m.\u001b[39;49m\u001b[43mcreate_from_point_cloud_ball_pivoting\u001b[49m\u001b[43m(\u001b[49m\n\u001b[0;32m      8\u001b[0m \u001b[43m    \u001b[49m\u001b[43msmall_pcd\u001b[49m\u001b[43m,\u001b[49m\u001b[43m \u001b[49m\u001b[43mo3d\u001b[49m\u001b[38;5;241;43m.\u001b[39;49m\u001b[43mutility\u001b[49m\u001b[38;5;241;43m.\u001b[39;49m\u001b[43mDoubleVector\u001b[49m\u001b[43m(\u001b[49m\u001b[43mradii\u001b[49m\u001b[43m)\u001b[49m\u001b[43m)\u001b[49m\n\u001b[0;32m     10\u001b[0m bpa_mesh \u001b[38;5;241m=\u001b[39m bpa_mesh\u001b[38;5;241m.\u001b[39msimplify_quadric_decimation(\u001b[38;5;241m100000\u001b[39m)\n\u001b[0;32m     11\u001b[0m bpa_mesh\u001b[38;5;241m.\u001b[39mremove_degenerate_triangles()\n",
      "\u001b[1;31mRuntimeError\u001b[0m: [Open3D ERROR] ReconstructBallPivoting requires normals"
     ]
    }
   ],
   "source": [
    "        original_pcd = o3d.io.read_point_cloud(\"187389569134163_arcore_ground_pcd.pcd\")\n",
    "        o3d.visualization.draw_geometries([original_pcd])\n",
    "        small_pcd = original_pcd.voxel_down_sample(voxel_size=0.0007)\n",
    "        o3d.visualization.draw_geometries([small_pcd])\n",
    "\n",
    "        radii = [0.001, 0.005, 0.01]\n",
    "        bpa_mesh = o3d.geometry.TriangleMesh.create_from_point_cloud_ball_pivoting(\n",
    "            small_pcd, o3d.utility.DoubleVector(radii))\n",
    "\n",
    "        bpa_mesh = bpa_mesh.simplify_quadric_decimation(100000)\n",
    "        bpa_mesh.remove_degenerate_triangles()\n",
    "        bpa_mesh.remove_duplicated_triangles()\n",
    "        bpa_mesh.remove_duplicated_vertices()\n",
    "        bpa_mesh.remove_non_manifold_edges()\n",
    "        bpa_mesh.scale(10, center=bpa_mesh.get_center())\n",
    "        \n",
    "        o3d.visualization.draw_geometries([bpa_mesh])\n",
    "\n",
    "        o3d.io.write_triangle_mesh(\"test_mesh.obj\", bpa_mesh)\n",
    "\n",
    "        ms = pymeshlab.MeshSet()\n",
    "        ms.load_new_mesh(full_mesh_path)\n",
    "        ms.compute_texmap_from_color()\n",
    "        ms.save_current_mesh(\"test_mesh.obj\")\n"
   ]
  },
  {
   "cell_type": "code",
   "execution_count": null,
   "id": "27ad13ea",
   "metadata": {},
   "outputs": [],
   "source": [
    "import numpy as np\n",
    "import cv2\n",
    "import os, sys, io\n",
    "import matplotlib.pyplot as plt\n",
    "from utils.preprocessing import *\n",
    "from models.controlnet_model_wrapper import ControlNetModelWrapper\n",
    "from models_3d import point_clouds\n",
    "import pymeshlab\n",
    "\n",
    "def process_arcore_ground(self, rgb_filepath, depth_filepath, i=0, resolution=512):\n",
    "        predict_ground_depth_path = os.path.join(self.data_root, \"ControlNet\", \"predicted_ground_truth_depth_maps\",\n",
    "                                                 f\"{i}_predict_ground_depth\")\n",
    "\n",
    "        ground_pcd_path = os.path.join(self.data_root, \"ground_point_clouds\", f\"{i}_arcore_ground_pcd\")\n",
    "\n",
    "        rgb_image, depth_map = prepare_arcore_data(rgb_filepath, depth_filepath, image_resolution=resolution)\n",
    "\n",
    "        predict_ground_depth_map = self.model.infer_depth_map(rgb_image, save_name=predict_ground_depth_path,\n",
    "                                                              display=False)\n",
    "\n",
    "        predict_ground_depth_map = resize_image(predict_ground_depth_map, resolution=resolution)\n",
    "        predict_ground_depth_map_aligned = align_midas_withzeros(predict_ground_depth_map, depth_map)\n",
    "\n",
    "        original_pcd = point_clouds.get_point_cloud(rgb_image, predict_ground_depth_map_aligned,\n",
    "                                                    pcd_path=ground_pcd_path + \".pcd\",\n",
    "                                                    display=False)\n",
    "        small_pcd = original_pcd.voxel_down_sample(voxel_size=0.0005)\n",
    "\n",
    "        radii = [0.001, 0.005, 0.01]\n",
    "        bpa_mesh = o3d.geometry.TriangleMesh.create_from_point_cloud_ball_pivoting(\n",
    "            small_pcd, o3d.utility.DoubleVector(radii))\n",
    "\n",
    "        bpa_mesh = bpa_mesh.simplify_quadric_decimation(100000)\n",
    "        bpa_mesh.remove_degenerate_triangles()\n",
    "        bpa_mesh.remove_duplicated_triangles()\n",
    "        bpa_mesh.remove_duplicated_vertices()\n",
    "        bpa_mesh.remove_non_manifold_edges()\n",
    "        bpa_mesh.scale(10, center=bpa_mesh.get_center())\n",
    "\n",
    "\n",
    "        relative_mesh_path = os.path.join(\"processed_user_data\", f\"{i}_mesh.obj\")\n",
    "        relative_material_path = os.path.join(\"processed_user_data\", f\"{i}_mesh.mtl\")\n",
    "\n",
    "        full_mesh_path = os.path.join(self.data_root, relative_mesh_path)\n",
    "\n",
    "        o3d.io.write_triangle_mesh(full_mesh_path, bpa_mesh)\n",
    "\n",
    "        ms = pymeshlab.MeshSet()\n",
    "        ms.load_new_mesh(full_mesh_path)\n",
    "        ms.compute_texmap_from_color()\n",
    "        ms.save_current_mesh(full_mesh_path)"
   ]
  },
  {
   "cell_type": "code",
   "execution_count": null,
   "id": "ae980f24",
   "metadata": {},
   "outputs": [],
   "source": [
    "\n",
    "handler = ARCoreHandler(data_root=UPLOAD_FOLDER)\n",
    "\n",
    "\n",
    "\"server/user_data/3311_depthImage_depthImage.txt\"\n",
    "\"server/user_data/3311_depthImage_rgbImage.txt\""
   ]
  },
  {
   "cell_type": "code",
   "execution_count": 6,
   "id": "6f8888e8",
   "metadata": {},
   "outputs": [],
   "source": [
    "depth_filepath=\"server/user_data/3311_depthImage.txt\"\n",
    "rgb_filepath =\"server/user_data/3311_rgbImage.jpg\"\n",
    "\n",
    "#rgb_image, depth_map = prepare_arcore_data(rgb_filepath, depth_filepath, image_resolution=512)"
   ]
  },
  {
   "cell_type": "code",
   "execution_count": 17,
   "id": "80c81914",
   "metadata": {},
   "outputs": [],
   "source": [
    "    import cv2\n",
    "    image_resolution=512\n",
    "    depth_H=90 \n",
    "    depth_W=160\n",
    "    \n",
    "    \n",
    "    rgb_image = cv2.imread(rgb_filepath)\n",
    "    rgb_image = cv2.rotate(rgb_image, cv2.ROTATE_90_CLOCKWISE)\n",
    "    rgb_image = cv2.flip(rgb_image, 0)\n",
    "    rgb_image = cv2.flip(rgb_image, 1)\n",
    "    rgb_image = cv2.cvtColor(rgb_image, cv2.COLOR_BGR2RGB)\n",
    "\n",
    "    depthData = np.fromfile(depth_filepath, dtype=np.uint16)\n",
    "    depthMap = np.array([extractDepth(x) for x in depthData]).reshape(depth_H, depth_W)\n",
    "    depthMap = cv2.rotate(depthMap, cv2.ROTATE_90_CLOCKWISE)\n",
    "\n",
    "\n",
    "    depthMap = np.float32(depthMap)\n",
    "    depthMap /= 1000\n",
    "\n",
    "    rgb_image_resized = resize_image(rgb_image, image_resolution)\n",
    "    rgb_H = rgb_image_resized.shape[0]\n",
    "\n",
    "    # depth image must be resized to have the same height as color image\n",
    "    depth_resized = resize_image(depthMap, rgb_H, ref_min=False)\n",
    "    d_w = depth_resized.shape[1]\n",
    "    rgb_w = rgb_image_resized.shape[1]\n",
    "\n",
    "    pad_val = int((rgb_w - d_w) / 2)\n",
    "\n",
    "    depth_padded = np.pad(depth_resized, ((0, 0), (pad_val, pad_val)), mode='constant')\n",
    "\n",
    "    #return rgb_image_resized, depth_padded"
   ]
  },
  {
   "cell_type": "code",
   "execution_count": null,
   "id": "501dc6b0",
   "metadata": {},
   "outputs": [],
   "source": [
    "handler = ARCoreHandler(data_root=UPLOAD_FOLDER)\n",
    "handler.process_arcore_ground(rgb_filepath, depth_filepath, i=0, resolution=512)"
   ]
  },
  {
   "cell_type": "code",
   "execution_count": 18,
   "id": "33012e9f",
   "metadata": {},
   "outputs": [
    {
     "data": {
      "text/plain": [
       "<matplotlib.image.AxesImage at 0x135247483a0>"
      ]
     },
     "execution_count": 18,
     "metadata": {},
     "output_type": "execute_result"
    },
    {
     "data": {
      "image/png": "[encoded data removed]",
      "text/plain": [
       "<Figure size 640x480 with 1 Axes>"
      ]
     },
     "metadata": {},
     "output_type": "display_data"
    }
   ],
   "source": [
    "plt.imshow(rgb_image_resized)"
   ]
  },
  {
   "cell_type": "code",
   "execution_count": 22,
   "id": "0ae5be2e",
   "metadata": {},
   "outputs": [
    {
     "data": {
      "text/plain": [
       "<matplotlib.image.AxesImage at 0x13524d398b0>"
      ]
     },
     "execution_count": 22,
     "metadata": {},
     "output_type": "execute_result"
    },
    {
     "data": {
      "image/png": "[encoded data removed]",
      "text/plain": [
       "<Figure size 640x480 with 1 Axes>"
      ]
     },
     "metadata": {},
     "output_type": "display_data"
    }
   ],
   "source": [
    "plt.imshow(depthMap)"
   ]
  },
  {
   "cell_type": "code",
   "execution_count": 12,
   "id": "3b2a7454",
   "metadata": {},
   "outputs": [
    {
     "data": {
      "text/plain": [
       "(160, 90)"
      ]
     },
     "execution_count": 12,
     "metadata": {},
     "output_type": "execute_result"
    }
   ],
   "source": [
    "depthMap.shape"
   ]
  },
  {
   "cell_type": "code",
   "execution_count": 27,
   "id": "f6867977",
   "metadata": {},
   "outputs": [
    {
     "data": {
      "text/plain": [
       "<matplotlib.image.AxesImage at 0x1352507fee0>"
      ]
     },
     "execution_count": 27,
     "metadata": {},
     "output_type": "execute_result"
    },
    {
     "data": {
      "image/png": "[encoded data removed]",
      "text/plain": [
       "<Figure size 640x480 with 1 Axes>"
      ]
     },
     "metadata": {},
     "output_type": "display_data"
    }
   ],
   "source": [
    "a = depthMap[140:,0:50]\n",
    "b = depthMap[:20,0:50]\n",
    "\n",
    "plt.imshow(b)"
   ]
  },
  {
   "cell_type": "code",
   "execution_count": 29,
   "id": "585436ab",
   "metadata": {},
   "outputs": [
    {
     "data": {
      "text/plain": [
       "array([[0.302, 0.303, 0.304, 0.304, 0.305, 0.305, 0.306, 0.306, 0.308,\n",
       "        0.309, 0.313, 0.314, 0.314, 0.315, 0.316, 0.322, 0.326, 0.327,\n",
       "        0.331, 0.335, 0.337, 0.34 , 0.342, 0.346, 0.349, 0.353, 0.356,\n",
       "        0.362, 0.364, 0.365, 0.368, 0.371, 0.373, 0.38 , 0.382, 0.386,\n",
       "        0.391, 0.397, 0.405, 0.412, 0.412, 0.415, 0.429, 0.448, 0.463,\n",
       "        0.473, 0.476, 0.497, 0.532, 0.538],\n",
       "       [0.302, 0.302, 0.302, 0.303, 0.304, 0.305, 0.306, 0.307, 0.308,\n",
       "        0.309, 0.311, 0.311, 0.313, 0.314, 0.318, 0.319, 0.321, 0.326,\n",
       "        0.33 , 0.331, 0.331, 0.334, 0.34 , 0.343, 0.343, 0.349, 0.356,\n",
       "        0.358, 0.358, 0.361, 0.365, 0.371, 0.372, 0.376, 0.383, 0.386,\n",
       "        0.39 , 0.394, 0.4  , 0.411, 0.414, 0.416, 0.424, 0.452, 0.467,\n",
       "        0.472, 0.482, 0.5  , 0.511, 0.523],\n",
       "       [0.301, 0.301, 0.302, 0.303, 0.303, 0.304, 0.304, 0.305, 0.306,\n",
       "        0.308, 0.31 , 0.312, 0.313, 0.315, 0.315, 0.317, 0.321, 0.326,\n",
       "        0.327, 0.328, 0.328, 0.333, 0.338, 0.342, 0.343, 0.349, 0.353,\n",
       "        0.357, 0.358, 0.361, 0.364, 0.368, 0.371, 0.373, 0.383, 0.387,\n",
       "        0.39 , 0.393, 0.395, 0.411, 0.418, 0.421, 0.431, 0.447, 0.456,\n",
       "        0.465, 0.479, 0.493, 0.511, 0.526],\n",
       "       [0.3  , 0.301, 0.302, 0.302, 0.303, 0.303, 0.304, 0.305, 0.306,\n",
       "        0.307, 0.308, 0.309, 0.311, 0.312, 0.314, 0.317, 0.321, 0.324,\n",
       "        0.326, 0.326, 0.328, 0.331, 0.334, 0.341, 0.345, 0.348, 0.35 ,\n",
       "        0.354, 0.358, 0.36 , 0.362, 0.367, 0.372, 0.374, 0.38 , 0.386,\n",
       "        0.391, 0.397, 0.398, 0.407, 0.415, 0.416, 0.427, 0.443, 0.458,\n",
       "        0.466, 0.475, 0.488, 0.509, 0.531],\n",
       "       [0.299, 0.3  , 0.301, 0.301, 0.301, 0.302, 0.303, 0.305, 0.306,\n",
       "        0.306, 0.307, 0.308, 0.31 , 0.312, 0.315, 0.319, 0.321, 0.321,\n",
       "        0.321, 0.323, 0.33 , 0.334, 0.335, 0.338, 0.343, 0.346, 0.35 ,\n",
       "        0.353, 0.357, 0.362, 0.366, 0.369, 0.37 , 0.373, 0.376, 0.386,\n",
       "        0.39 , 0.394, 0.395, 0.405, 0.416, 0.421, 0.425, 0.437, 0.454,\n",
       "        0.464, 0.476, 0.493, 0.507, 0.527],\n",
       "       [0.299, 0.299, 0.299, 0.3  , 0.3  , 0.301, 0.303, 0.304, 0.305,\n",
       "        0.305, 0.306, 0.307, 0.31 , 0.313, 0.315, 0.316, 0.316, 0.317,\n",
       "        0.32 , 0.326, 0.331, 0.333, 0.334, 0.336, 0.341, 0.344, 0.348,\n",
       "        0.351, 0.357, 0.363, 0.366, 0.37 , 0.372, 0.374, 0.375, 0.382,\n",
       "        0.392, 0.395, 0.395, 0.401, 0.411, 0.423, 0.425, 0.431, 0.445,\n",
       "        0.463, 0.475, 0.489, 0.51 , 0.525],\n",
       "       [0.297, 0.298, 0.298, 0.299, 0.3  , 0.301, 0.302, 0.303, 0.304,\n",
       "        0.305, 0.306, 0.309, 0.31 , 0.312, 0.313, 0.314, 0.315, 0.317,\n",
       "        0.32 , 0.326, 0.329, 0.331, 0.334, 0.336, 0.339, 0.343, 0.348,\n",
       "        0.352, 0.357, 0.362, 0.364, 0.368, 0.372, 0.377, 0.377, 0.382,\n",
       "        0.393, 0.397, 0.399, 0.399, 0.406, 0.418, 0.43 , 0.432, 0.444,\n",
       "        0.452, 0.463, 0.472, 0.503, 0.533],\n",
       "       [0.297, 0.297, 0.298, 0.299, 0.3  , 0.3  , 0.301, 0.302, 0.303,\n",
       "        0.304, 0.306, 0.309, 0.31 , 0.311, 0.312, 0.313, 0.315, 0.318,\n",
       "        0.323, 0.326, 0.328, 0.33 , 0.333, 0.336, 0.339, 0.342, 0.347,\n",
       "        0.352, 0.357, 0.36 , 0.363, 0.367, 0.371, 0.378, 0.383, 0.385,\n",
       "        0.39 , 0.393, 0.401, 0.404, 0.406, 0.414, 0.427, 0.435, 0.446,\n",
       "        0.453, 0.455, 0.467, 0.515, 0.527],\n",
       "       [0.296, 0.297, 0.297, 0.298, 0.299, 0.3  , 0.301, 0.302, 0.303,\n",
       "        0.305, 0.306, 0.307, 0.309, 0.31 , 0.311, 0.312, 0.314, 0.319,\n",
       "        0.323, 0.325, 0.327, 0.329, 0.331, 0.336, 0.339, 0.343, 0.347,\n",
       "        0.352, 0.356, 0.36 , 0.364, 0.368, 0.37 , 0.377, 0.386, 0.387,\n",
       "        0.393, 0.396, 0.402, 0.405, 0.407, 0.41 , 0.423, 0.441, 0.446,\n",
       "        0.447, 0.454, 0.48 , 0.507, 0.517],\n",
       "       [0.295, 0.296, 0.297, 0.297, 0.299, 0.3  , 0.301, 0.302, 0.304,\n",
       "        0.304, 0.305, 0.307, 0.308, 0.309, 0.31 , 0.312, 0.315, 0.318,\n",
       "        0.321, 0.325, 0.328, 0.33 , 0.332, 0.335, 0.339, 0.342, 0.347,\n",
       "        0.352, 0.357, 0.36 , 0.363, 0.367, 0.372, 0.375, 0.384, 0.391,\n",
       "        0.395, 0.398, 0.401, 0.404, 0.409, 0.412, 0.415, 0.432, 0.443,\n",
       "        0.443, 0.453, 0.5  , 0.507, 0.512],\n",
       "       [0.295, 0.296, 0.296, 0.297, 0.298, 0.299, 0.301, 0.302, 0.303,\n",
       "        0.304, 0.305, 0.306, 0.307, 0.309, 0.31 , 0.312, 0.315, 0.319,\n",
       "        0.322, 0.324, 0.326, 0.328, 0.33 , 0.333, 0.34 , 0.345, 0.348,\n",
       "        0.352, 0.355, 0.358, 0.362, 0.369, 0.373, 0.376, 0.381, 0.394,\n",
       "        0.397, 0.4  , 0.402, 0.407, 0.409, 0.413, 0.416, 0.425, 0.442,\n",
       "        0.442, 0.457, 0.493, 0.493, 0.505],\n",
       "       [0.295, 0.295, 0.296, 0.297, 0.298, 0.3  , 0.3  , 0.301, 0.303,\n",
       "        0.304, 0.305, 0.306, 0.308, 0.309, 0.31 , 0.311, 0.316, 0.32 ,\n",
       "        0.322, 0.323, 0.325, 0.327, 0.328, 0.333, 0.34 , 0.346, 0.348,\n",
       "        0.351, 0.354, 0.357, 0.361, 0.369, 0.374, 0.377, 0.38 , 0.392,\n",
       "        0.4  , 0.402, 0.404, 0.407, 0.411, 0.412, 0.416, 0.427, 0.437,\n",
       "        0.446, 0.469, 0.472, 0.483, 0.513],\n",
       "       [0.295, 0.295, 0.296, 0.297, 0.298, 0.299, 0.3  , 0.301, 0.303,\n",
       "        0.304, 0.305, 0.306, 0.307, 0.309, 0.311, 0.313, 0.316, 0.319,\n",
       "        0.321, 0.323, 0.325, 0.327, 0.33 , 0.334, 0.34 , 0.344, 0.347,\n",
       "        0.349, 0.352, 0.356, 0.364, 0.371, 0.374, 0.377, 0.38 , 0.389,\n",
       "        0.397, 0.4  , 0.403, 0.407, 0.411, 0.416, 0.425, 0.437, 0.437,\n",
       "        0.444, 0.447, 0.475, 0.493, 0.519],\n",
       "       [0.295, 0.295, 0.296, 0.297, 0.298, 0.299, 0.3  , 0.301, 0.303,\n",
       "        0.304, 0.304, 0.305, 0.307, 0.309, 0.312, 0.315, 0.317, 0.319,\n",
       "        0.32 , 0.322, 0.324, 0.325, 0.327, 0.33 , 0.341, 0.346, 0.348,\n",
       "        0.349, 0.352, 0.36 , 0.364, 0.372, 0.375, 0.375, 0.378, 0.388,\n",
       "        0.393, 0.401, 0.404, 0.409, 0.415, 0.424, 0.426, 0.429, 0.43 ,\n",
       "        0.445, 0.455, 0.477, 0.502, 0.51 ],\n",
       "       [0.294, 0.295, 0.296, 0.297, 0.298, 0.299, 0.3  , 0.301, 0.303,\n",
       "        0.303, 0.304, 0.305, 0.307, 0.309, 0.312, 0.315, 0.317, 0.318,\n",
       "        0.32 , 0.321, 0.323, 0.324, 0.327, 0.333, 0.34 , 0.344, 0.347,\n",
       "        0.351, 0.355, 0.36 , 0.366, 0.371, 0.373, 0.375, 0.384, 0.39 ,\n",
       "        0.392, 0.394, 0.396, 0.404, 0.415, 0.421, 0.423, 0.432, 0.436,\n",
       "        0.445, 0.475, 0.477, 0.487, 0.502],\n",
       "       [0.294, 0.295, 0.296, 0.297, 0.298, 0.299, 0.3  , 0.302, 0.303,\n",
       "        0.303, 0.304, 0.305, 0.308, 0.311, 0.313, 0.315, 0.316, 0.317,\n",
       "        0.318, 0.32 , 0.323, 0.325, 0.328, 0.334, 0.341, 0.344, 0.347,\n",
       "        0.352, 0.358, 0.36 , 0.361, 0.363, 0.37 , 0.377, 0.38 , 0.385,\n",
       "        0.39 , 0.398, 0.404, 0.411, 0.418, 0.42 , 0.425, 0.434, 0.442,\n",
       "        0.444, 0.457, 0.483, 0.502, 0.509],\n",
       "       [0.294, 0.295, 0.296, 0.297, 0.298, 0.299, 0.3  , 0.302, 0.303,\n",
       "        0.303, 0.304, 0.306, 0.308, 0.311, 0.312, 0.314, 0.315, 0.316,\n",
       "        0.318, 0.32 , 0.324, 0.328, 0.332, 0.338, 0.34 , 0.342, 0.344,\n",
       "        0.347, 0.353, 0.359, 0.362, 0.367, 0.369, 0.373, 0.375, 0.38 ,\n",
       "        0.385, 0.396, 0.403, 0.413, 0.418, 0.426, 0.428, 0.437, 0.44 ,\n",
       "        0.446, 0.455, 0.49 , 0.502, 0.507],\n",
       "       [0.294, 0.295, 0.295, 0.297, 0.298, 0.3  , 0.301, 0.302, 0.303,\n",
       "        0.303, 0.304, 0.306, 0.309, 0.311, 0.312, 0.313, 0.314, 0.316,\n",
       "        0.318, 0.322, 0.326, 0.328, 0.329, 0.331, 0.334, 0.343, 0.347,\n",
       "        0.351, 0.355, 0.359, 0.361, 0.365, 0.367, 0.372, 0.374, 0.376,\n",
       "        0.382, 0.396, 0.404, 0.414, 0.423, 0.424, 0.431, 0.438, 0.442,\n",
       "        0.449, 0.476, 0.487, 0.495, 0.502],\n",
       "       [0.294, 0.295, 0.295, 0.296, 0.298, 0.3  , 0.301, 0.302, 0.303,\n",
       "        0.304, 0.305, 0.307, 0.309, 0.309, 0.311, 0.313, 0.315, 0.317,\n",
       "        0.32 , 0.321, 0.322, 0.323, 0.327, 0.334, 0.338, 0.343, 0.346,\n",
       "        0.352, 0.355, 0.359, 0.361, 0.364, 0.367, 0.368, 0.37 , 0.377,\n",
       "        0.384, 0.402, 0.402, 0.414, 0.42 , 0.428, 0.437, 0.441, 0.452,\n",
       "        0.466, 0.473, 0.481, 0.49 , 0.501],\n",
       "       [0.294, 0.295, 0.296, 0.297, 0.298, 0.299, 0.3  , 0.302, 0.303,\n",
       "        0.304, 0.306, 0.307, 0.309, 0.31 , 0.312, 0.313, 0.315, 0.317,\n",
       "        0.319, 0.321, 0.324, 0.327, 0.33 , 0.334, 0.338, 0.342, 0.347,\n",
       "        0.35 , 0.354, 0.357, 0.361, 0.363, 0.366, 0.37 , 0.375, 0.381,\n",
       "        0.388, 0.396, 0.404, 0.413, 0.421, 0.428, 0.435, 0.442, 0.45 ,\n",
       "        0.459, 0.468, 0.478, 0.489, 0.499]], dtype=float32)"
      ]
     },
     "execution_count": 29,
     "metadata": {},
     "output_type": "execute_result"
    }
   ],
   "source": [
    "a"
   ]
  },
  {
   "cell_type": "code",
   "execution_count": 2,
   "id": "ffd65843",
   "metadata": {},
   "outputs": [],
   "source": [
    "mesh_path = \"server/user_data/processed_user_data/6113_mesh.obj\"\n",
    "\n",
    "bpa_mesh = o3d.io.read_triangle_mesh(mesh_path)\n",
    "\n",
    "ms = pymeshlab.MeshSet()\n",
    "ms.load_new_mesh(mesh_path)"
   ]
  },
  {
   "cell_type": "code",
   "execution_count": 3,
   "id": "a113f6b2",
   "metadata": {},
   "outputs": [
    {
     "name": "stdout",
     "output_type": "stream",
     "text": [
      "[Open3D WARNING] GLFW Error: WGL: Failed to make context current: The handle is invalid. \n",
      "[Open3D WARNING] GLFW Error: WGL: Failed to make context current: The requested transformation operation is not supported. \n",
      "[Open3D WARNING] GLFW Error: WGL: Failed to make context current: The requested transformation operation is not supported. \n"
     ]
    }
   ],
   "source": [
    "o3d.visualization.draw_geometries([bpa_mesh])"
   ]
  },
  {
   "cell_type": "code",
   "execution_count": 13,
   "id": "5908919e",
   "metadata": {},
   "outputs": [
    {
     "name": "stdout",
     "output_type": "stream",
     "text": [
      "[[-1.  0.  0.  0.]\n",
      " [ 0.  1.  0.  0.]\n",
      " [ 0.  0. -1.  0.]\n",
      " [ 0.  0.  0.  1.]]\n"
     ]
    }
   ],
   "source": [
    "bpa_mesh = o3d.io.read_triangle_mesh(mesh_path)\n",
    "T = np.eye(4)\n",
    "T[0,0] = -1\n",
    "T[2,2] = -1\n",
    "print(T)\n",
    "bpa_mesh.transform(T)\n",
    "o3d.visualization.draw_geometries([bpa_mesh])"
   ]
  },
  {
   "cell_type": "code",
   "execution_count": 9,
   "id": "60f8b247",
   "metadata": {},
   "outputs": [
    {
     "name": "stdout",
     "output_type": "stream",
     "text": [
      "[[-1.  0.  0.  0.]\n",
      " [ 0. -1.  0.  0.]\n",
      " [ 0.  0.  1.  0.]\n",
      " [ 0.  0.  0.  1.]]\n",
      "[Open3D WARNING] GLFW Error: WGL: Failed to make context current: The requested transformation operation is not supported. \n"
     ]
    }
   ],
   "source": [
    "print(T)\n",
    "mesh_t = bpa_mesh.transform(T)\n",
    "o3d.visualization.draw_geometries([mesh_t])"
   ]
  },
  {
   "cell_type": "code",
   "execution_count": null,
   "id": "b5b28929",
   "metadata": {},
   "outputs": [],
   "source": []
  }
 ],
 "metadata": {
  "kernelspec": {
   "display_name": "Python 3 (ipykernel)",
   "language": "python",
   "name": "python3"
  },
  "language_info": {
   "codemirror_mode": {
    "name": "ipython",
    "version": 3
   },
   "file_extension": ".py",
   "mimetype": "text/x-python",
   "name": "python",
   "nbconvert_exporter": "python",
   "pygments_lexer": "ipython3",
   "version": "3.8.16"
  }
 },
 "nbformat": 4,
 "nbformat_minor": 5
}
